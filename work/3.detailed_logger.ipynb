{
 "cells": [
  {
   "cell_type": "code",
   "execution_count": 4,
   "id": "ee94ec75",
   "metadata": {},
   "outputs": [
    {
     "name": "stdout",
     "output_type": "stream",
     "text": [
      "Requirement already satisfied: numpy in c:\\users\\dell\\anaconda3\\lib\\site-packages (2.0.2)\n",
      "Note: you may need to restart the kernel to use updated packages.\n"
     ]
    },
    {
     "name": "stderr",
     "output_type": "stream",
     "text": [
      "\n",
      "[notice] A new release of pip is available: 23.1.2 -> 25.1.1\n",
      "[notice] To update, run: python.exe -m pip install --upgrade pip\n"
     ]
    }
   ],
   "source": [
    "pip install -U numpy"
   ]
  },
  {
   "cell_type": "code",
   "execution_count": 5,
   "id": "4083ae92",
   "metadata": {},
   "outputs": [
    {
     "name": "stdout",
     "output_type": "stream",
     "text": [
      "Requirement already satisfied: bottleneck in c:\\users\\dell\\anaconda3\\lib\\site-packages (1.4.2)\n",
      "Requirement already satisfied: numpy in c:\\users\\dell\\anaconda3\\lib\\site-packages (from bottleneck) (2.0.2)\n",
      "Note: you may need to restart the kernel to use updated packages.\n"
     ]
    },
    {
     "name": "stderr",
     "output_type": "stream",
     "text": [
      "\n",
      "[notice] A new release of pip is available: 23.1.2 -> 25.1.1\n",
      "[notice] To update, run: python.exe -m pip install --upgrade pip\n"
     ]
    }
   ],
   "source": [
    "pip install -U bottleneck"
   ]
  },
  {
   "cell_type": "code",
   "execution_count": 6,
   "id": "cb5cc459",
   "metadata": {},
   "outputs": [
    {
     "data": {
      "text/html": [
       "<pre style=\"white-space:pre;overflow-x:auto;line-height:normal;font-family:Menlo,'DejaVu Sans Mono',consolas,'Courier New',monospace\">10:32:24.892 | <span style=\"color: #008080; text-decoration-color: #008080\">INFO</span>    | Flow run<span style=\"color: #800080; text-decoration-color: #800080\"> 'cyber-rattlesnake'</span> - Beginning flow run<span style=\"color: #800080; text-decoration-color: #800080\"> 'cyber-rattlesnake'</span> for flow<span style=\"color: #800080; text-decoration-color: #800080; font-weight: bold\"> 'hello_flow: 3.detailed_logger'</span>\n",
       "</pre>\n"
      ],
      "text/plain": [
       "10:32:24.892 | \u001b[36mINFO\u001b[0m    | Flow run\u001b[35m 'cyber-rattlesnake'\u001b[0m - Beginning flow run\u001b[35m 'cyber-rattlesnake'\u001b[0m for flow\u001b[1;35m 'hello_flow: 3.detailed_logger'\u001b[0m\n"
      ]
     },
     "metadata": {},
     "output_type": "display_data"
    },
    {
     "data": {
      "text/html": [
       "<pre style=\"white-space:pre;overflow-x:auto;line-height:normal;font-family:Menlo,'DejaVu Sans Mono',consolas,'Courier New',monospace\">10:32:24.926 | <span style=\"color: #d7d700; text-decoration-color: #d7d700\">WARNING</span> | Task run 'say_hello-13c' - &gt;&gt;&gt; This is a <span style=\"color: #d7d700; text-decoration-color: #d7d700\">WARNING</span> message from my_task.\n",
       "</pre>\n"
      ],
      "text/plain": [
       "10:32:24.926 | \u001b[38;5;184mWARNING\u001b[0m | Task run 'say_hello-13c' - >>> This is a \u001b[38;5;184mWARNING\u001b[0m message from my_task.\n"
      ]
     },
     "metadata": {},
     "output_type": "display_data"
    },
    {
     "data": {
      "text/html": [
       "<pre style=\"white-space:pre;overflow-x:auto;line-height:normal;font-family:Menlo,'DejaVu Sans Mono',consolas,'Courier New',monospace\">10:32:24.936 | <span style=\"color: #008080; text-decoration-color: #008080\">INFO</span>    | Task run 'say_hello-13c' - Finished in state <span style=\"color: #008000; text-decoration-color: #008000\">Completed</span>()\n",
       "</pre>\n"
      ],
      "text/plain": [
       "10:32:24.936 | \u001b[36mINFO\u001b[0m    | Task run 'say_hello-13c' - Finished in state \u001b[32mCompleted\u001b[0m()\n"
      ]
     },
     "metadata": {},
     "output_type": "display_data"
    },
    {
     "data": {
      "text/html": [
       "<pre style=\"white-space:pre;overflow-x:auto;line-height:normal;font-family:Menlo,'DejaVu Sans Mono',consolas,'Courier New',monospace\">10:32:24.968 | <span style=\"color: #008080; text-decoration-color: #008080\">INFO</span>    | Task run 'get_name-66e' - &gt;&gt;&gt; This is an <span style=\"color: #008080; text-decoration-color: #008080\">INFO</span> message from my_task.\n",
       "</pre>\n"
      ],
      "text/plain": [
       "10:32:24.968 | \u001b[36mINFO\u001b[0m    | Task run 'get_name-66e' - >>> This is an \u001b[36mINFO\u001b[0m message from my_task.\n"
      ]
     },
     "metadata": {},
     "output_type": "display_data"
    },
    {
     "data": {
      "text/html": [
       "<pre style=\"white-space:pre;overflow-x:auto;line-height:normal;font-family:Menlo,'DejaVu Sans Mono',consolas,'Courier New',monospace\">10:32:24.973 | <span style=\"color: #008080; text-decoration-color: #008080\">INFO</span>    | Task run 'get_name-66e' - Finished in state <span style=\"color: #008000; text-decoration-color: #008000\">Completed</span>()\n",
       "</pre>\n"
      ],
      "text/plain": [
       "10:32:24.973 | \u001b[36mINFO\u001b[0m    | Task run 'get_name-66e' - Finished in state \u001b[32mCompleted\u001b[0m()\n"
      ]
     },
     "metadata": {},
     "output_type": "display_data"
    },
    {
     "name": "stdout",
     "output_type": "stream",
     "text": [
      ">>> Print statements are also captured.\n"
     ]
    },
    {
     "data": {
      "text/html": [
       "<pre style=\"white-space:pre;overflow-x:auto;line-height:normal;font-family:Menlo,'DejaVu Sans Mono',consolas,'Courier New',monospace\">10:32:25.027 | <span style=\"color: #008080; text-decoration-color: #008080\">INFO</span>    | Flow run<span style=\"color: #800080; text-decoration-color: #800080\"> 'cyber-rattlesnake'</span> - Finished in state <span style=\"color: #008000; text-decoration-color: #008000\">Completed</span>()\n",
       "</pre>\n"
      ],
      "text/plain": [
       "10:32:25.027 | \u001b[36mINFO\u001b[0m    | Flow run\u001b[35m 'cyber-rattlesnake'\u001b[0m - Finished in state \u001b[32mCompleted\u001b[0m()\n"
      ]
     },
     "metadata": {},
     "output_type": "display_data"
    }
   ],
   "source": [
    "from prefect import flow, task, get_run_logger\n",
    "\n",
    "@task\n",
    "def say_hello():\n",
    "    logger = get_run_logger()\n",
    "    logger.warning(\">>> This is a WARNING message from my_task.\")\n",
    "    return \"Hello, \"\n",
    "\n",
    "@task\n",
    "def get_name():\n",
    "    logger = get_run_logger()\n",
    "    logger.info(\">>> This is an INFO message from my_task.\")\n",
    "    return \"DSI321: Big Data Infrastructure\"\n",
    "    \n",
    "@flow(name=\"hello_flow: 3.detailed_logger\")\n",
    "def hello_flow():\n",
    "    result = say_hello() + get_name() + \"!\"\n",
    "    print(\">>> Print statements are also captured.\")\n",
    "    return result\n",
    "\n",
    "if __name__ == '__main__':\n",
    "    hello_flow()"
   ]
  }
 ],
 "metadata": {
  "kernelspec": {
   "display_name": "Python 3",
   "language": "python",
   "name": "python3"
  },
  "language_info": {
   "codemirror_mode": {
    "name": "ipython",
    "version": 3
   },
   "file_extension": ".py",
   "mimetype": "text/x-python",
   "name": "python",
   "nbconvert_exporter": "python",
   "pygments_lexer": "ipython3",
   "version": "3.9.12"
  }
 },
 "nbformat": 4,
 "nbformat_minor": 5
}
