{
 "cells": [
  {
   "cell_type": "code",
   "execution_count": 6,
   "id": "f1587dff",
   "metadata": {},
   "outputs": [
    {
     "name": "stdout",
     "output_type": "stream",
     "text": [
      "Requirement already satisfied: prefect in c:\\users\\dell\\anaconda3\\lib\\site-packages (3.4.0)\n",
      "Requirement already satisfied: aiosqlite<1.0.0,>=0.17.0 in c:\\users\\dell\\anaconda3\\lib\\site-packages (from prefect) (0.21.0)\n",
      "Requirement already satisfied: alembic<2.0.0,>=1.7.5 in c:\\users\\dell\\anaconda3\\lib\\site-packages (from prefect) (1.15.2)\n",
      "Requirement already satisfied: anyio<5.0.0,>=4.4.0 in c:\\users\\dell\\anaconda3\\lib\\site-packages (from prefect) (4.9.0)\n",
      "Requirement already satisfied: apprise<2.0.0,>=1.1.0 in c:\\users\\dell\\anaconda3\\lib\\site-packages (from prefect) (1.9.3)\n",
      "Note: you may need to restart the kernel to use updated packages.\n"
     ]
    },
    {
     "name": "stderr",
     "output_type": "stream",
     "text": [
      "\n",
      "[notice] A new release of pip is available: 23.1.2 -> 25.1.1\n",
      "[notice] To update, run: python.exe -m pip install --upgrade pip\n"
     ]
    },
    {
     "name": "stdout",
     "output_type": "stream",
     "text": [
      "Requirement already satisfied: asgi-lifespan<3.0,>=1.0 in c:\\users\\dell\\anaconda3\\lib\\site-packages (from prefect) (2.1.0)\n",
      "Requirement already satisfied: asyncpg<1.0.0,>=0.23 in c:\\users\\dell\\anaconda3\\lib\\site-packages (from prefect) (0.30.0)\n",
      "Requirement already satisfied: cachetools<6.0,>=5.3 in c:\\users\\dell\\anaconda3\\lib\\site-packages (from prefect) (5.5.2)\n",
      "Requirement already satisfied: click<8.2,>=8.0 in c:\\users\\dell\\anaconda3\\lib\\site-packages (from prefect) (8.0.4)\n",
      "Requirement already satisfied: cloudpickle<4.0,>=2.0 in c:\\users\\dell\\anaconda3\\lib\\site-packages (from prefect) (2.0.0)\n",
      "Requirement already satisfied: coolname<3.0.0,>=1.0.4 in c:\\users\\dell\\anaconda3\\lib\\site-packages (from prefect) (2.2.0)\n",
      "Requirement already satisfied: cryptography>=36.0.1 in c:\\users\\dell\\anaconda3\\lib\\site-packages (from prefect) (44.0.3)\n",
      "Requirement already satisfied: dateparser<2.0.0,>=1.1.1 in c:\\users\\dell\\anaconda3\\lib\\site-packages (from prefect) (1.2.1)\n",
      "Requirement already satisfied: docker<8.0,>=4.0 in c:\\users\\dell\\anaconda3\\lib\\site-packages (from prefect) (7.1.0)\n",
      "Requirement already satisfied: exceptiongroup>=1.0.0 in c:\\users\\dell\\anaconda3\\lib\\site-packages (from prefect) (1.2.2)\n",
      "Requirement already satisfied: fastapi<1.0.0,>=0.111.0 in c:\\users\\dell\\anaconda3\\lib\\site-packages (from prefect) (0.115.12)\n",
      "Requirement already satisfied: fsspec>=2022.5.0 in c:\\users\\dell\\anaconda3\\lib\\site-packages (from prefect) (2025.3.2)\n",
      "Requirement already satisfied: graphviz>=0.20.1 in c:\\users\\dell\\anaconda3\\lib\\site-packages (from prefect) (0.20.3)\n",
      "Requirement already satisfied: griffe<2.0.0,>=0.49.0 in c:\\users\\dell\\anaconda3\\lib\\site-packages (from prefect) (1.7.3)\n",
      "Requirement already satisfied: httpcore<2.0.0,>=1.0.5 in c:\\users\\dell\\anaconda3\\lib\\site-packages (from prefect) (1.0.9)\n",
      "Requirement already satisfied: httpx[http2]!=0.23.2,>=0.23 in c:\\users\\dell\\anaconda3\\lib\\site-packages (from prefect) (0.28.1)\n",
      "Requirement already satisfied: humanize<5.0.0,>=4.9.0 in c:\\users\\dell\\anaconda3\\lib\\site-packages (from prefect) (4.12.3)\n",
      "Requirement already satisfied: importlib-metadata>=4.4 in c:\\users\\dell\\anaconda3\\lib\\site-packages (from prefect) (8.6.1)\n",
      "Requirement already satisfied: jinja2-humanize-extension>=0.4.0 in c:\\users\\dell\\anaconda3\\lib\\site-packages (from prefect) (0.4.0)\n",
      "Requirement already satisfied: jinja2<4.0.0,>=3.1.6 in c:\\users\\dell\\anaconda3\\lib\\site-packages (from prefect) (3.1.6)\n",
      "Requirement already satisfied: jsonpatch<2.0,>=1.32 in c:\\users\\dell\\anaconda3\\lib\\site-packages (from prefect) (1.33)\n",
      "Requirement already satisfied: jsonschema<5.0.0,>=4.0.0 in c:\\users\\dell\\anaconda3\\lib\\site-packages (from prefect) (4.23.0)\n",
      "Requirement already satisfied: opentelemetry-api<2.0.0,>=1.27.0 in c:\\users\\dell\\anaconda3\\lib\\site-packages (from prefect) (1.32.1)\n",
      "Requirement already satisfied: orjson<4.0,>=3.7 in c:\\users\\dell\\anaconda3\\lib\\site-packages (from prefect) (3.10.18)\n",
      "Requirement already satisfied: packaging<25.1,>=21.3 in c:\\users\\dell\\anaconda3\\lib\\site-packages (from prefect) (21.3)\n",
      "Requirement already satisfied: pathspec>=0.8.0 in c:\\users\\dell\\anaconda3\\lib\\site-packages (from prefect) (0.12.1)\n",
      "Requirement already satisfied: pendulum<4,>=3.0.0 in c:\\users\\dell\\anaconda3\\lib\\site-packages (from prefect) (3.1.0)\n",
      "Requirement already satisfied: prometheus-client>=0.20.0 in c:\\users\\dell\\anaconda3\\lib\\site-packages (from prefect) (0.21.1)\n",
      "Requirement already satisfied: pydantic!=2.10.0,<3.0.0,>=2.9 in c:\\users\\dell\\anaconda3\\lib\\site-packages (from prefect) (2.11.4)\n",
      "Requirement already satisfied: pydantic-core<3.0.0,>=2.12.0 in c:\\users\\dell\\anaconda3\\lib\\site-packages (from prefect) (2.33.2)\n",
      "Requirement already satisfied: pydantic-extra-types<3.0.0,>=2.8.2 in c:\\users\\dell\\anaconda3\\lib\\site-packages (from prefect) (2.10.4)\n",
      "Requirement already satisfied: pydantic-settings!=2.9.0,<3.0.0,>2.2.1 in c:\\users\\dell\\anaconda3\\lib\\site-packages (from prefect) (2.9.1)\n",
      "Requirement already satisfied: python-dateutil<3.0.0,>=2.8.2 in c:\\users\\dell\\anaconda3\\lib\\site-packages (from prefect) (2.8.2)\n",
      "Requirement already satisfied: python-slugify<9.0,>=5.0 in c:\\users\\dell\\anaconda3\\lib\\site-packages (from prefect) (5.0.2)\n",
      "Requirement already satisfied: python-socks[asyncio]<3.0,>=2.5.3 in c:\\users\\dell\\anaconda3\\lib\\site-packages (from prefect) (2.7.1)\n",
      "Requirement already satisfied: pytz<2026,>=2021.1 in c:\\users\\dell\\anaconda3\\lib\\site-packages (from prefect) (2025.2)\n",
      "Requirement already satisfied: pyyaml<7.0.0,>=5.4.1 in c:\\users\\dell\\anaconda3\\lib\\site-packages (from prefect) (6.0)\n",
      "Requirement already satisfied: readchar<5.0.0,>=4.0.0 in c:\\users\\dell\\anaconda3\\lib\\site-packages (from prefect) (4.2.1)\n",
      "Requirement already satisfied: rfc3339-validator<0.2.0,>=0.1.4 in c:\\users\\dell\\anaconda3\\lib\\site-packages (from prefect) (0.1.4)\n",
      "Requirement already satisfied: rich<15.0,>=11.0 in c:\\users\\dell\\anaconda3\\lib\\site-packages (from prefect) (14.0.0)\n",
      "Requirement already satisfied: ruamel-yaml>=0.17.0 in c:\\users\\dell\\anaconda3\\lib\\site-packages (from prefect) (0.18.10)\n",
      "Requirement already satisfied: sniffio<2.0.0,>=1.3.0 in c:\\users\\dell\\anaconda3\\lib\\site-packages (from prefect) (1.3.1)\n",
      "Requirement already satisfied: sqlalchemy[asyncio]<3.0.0,>=2.0 in c:\\users\\dell\\anaconda3\\lib\\site-packages (from prefect) (2.0.40)\n",
      "Requirement already satisfied: toml>=0.10.0 in c:\\users\\dell\\anaconda3\\lib\\site-packages (from prefect) (0.10.2)\n",
      "Requirement already satisfied: typer!=0.12.2,<0.16.0,>=0.12.0 in c:\\users\\dell\\anaconda3\\lib\\site-packages (from prefect) (0.15.3)\n",
      "Requirement already satisfied: typing-extensions<5.0.0,>=4.10.0 in c:\\users\\dell\\anaconda3\\lib\\site-packages (from prefect) (4.13.2)\n",
      "Requirement already satisfied: ujson<6.0.0,>=5.8.0 in c:\\users\\dell\\anaconda3\\lib\\site-packages (from prefect) (5.10.0)\n",
      "Requirement already satisfied: uv>=0.6.0 in c:\\users\\dell\\anaconda3\\lib\\site-packages (from prefect) (0.7.3)\n",
      "Requirement already satisfied: uvicorn!=0.29.0,>=0.14.0 in c:\\users\\dell\\anaconda3\\lib\\site-packages (from prefect) (0.34.2)\n",
      "Requirement already satisfied: websockets<16.0,>=13.0 in c:\\users\\dell\\anaconda3\\lib\\site-packages (from prefect) (15.0.1)\n",
      "Requirement already satisfied: Mako in c:\\users\\dell\\anaconda3\\lib\\site-packages (from alembic<2.0.0,>=1.7.5->prefect) (1.3.10)\n",
      "Requirement already satisfied: idna>=2.8 in c:\\users\\dell\\anaconda3\\lib\\site-packages (from anyio<5.0.0,>=4.4.0->prefect) (3.3)\n",
      "Requirement already satisfied: certifi in c:\\users\\dell\\anaconda3\\lib\\site-packages (from apprise<2.0.0,>=1.1.0->prefect) (2021.10.8)\n",
      "Requirement already satisfied: requests in c:\\users\\dell\\anaconda3\\lib\\site-packages (from apprise<2.0.0,>=1.1.0->prefect) (2.27.1)\n",
      "Requirement already satisfied: requests-oauthlib in c:\\users\\dell\\anaconda3\\lib\\site-packages (from apprise<2.0.0,>=1.1.0->prefect) (2.0.0)\n",
      "Requirement already satisfied: markdown in c:\\users\\dell\\anaconda3\\lib\\site-packages (from apprise<2.0.0,>=1.1.0->prefect) (3.3.4)\n",
      "Requirement already satisfied: async-timeout>=4.0.3 in c:\\users\\dell\\anaconda3\\lib\\site-packages (from asyncpg<1.0.0,>=0.23->prefect) (5.0.1)\n",
      "Requirement already satisfied: colorama in c:\\users\\dell\\anaconda3\\lib\\site-packages (from click<8.2,>=8.0->prefect) (0.4.4)\n",
      "Requirement already satisfied: cffi>=1.12 in c:\\users\\dell\\anaconda3\\lib\\site-packages (from cryptography>=36.0.1->prefect) (1.15.0)\n",
      "Requirement already satisfied: regex!=2019.02.19,!=2021.8.27,>=2015.06.24 in c:\\users\\dell\\anaconda3\\lib\\site-packages (from dateparser<2.0.0,>=1.1.1->prefect) (2022.3.15)\n",
      "Requirement already satisfied: tzlocal>=0.2 in c:\\users\\dell\\anaconda3\\lib\\site-packages (from dateparser<2.0.0,>=1.1.1->prefect) (5.3.1)\n",
      "Requirement already satisfied: pywin32>=304 in c:\\users\\dell\\anaconda3\\lib\\site-packages (from docker<8.0,>=4.0->prefect) (310)\n",
      "Requirement already satisfied: urllib3>=1.26.0 in c:\\users\\dell\\anaconda3\\lib\\site-packages (from docker<8.0,>=4.0->prefect) (1.26.9)\n",
      "Requirement already satisfied: starlette<0.47.0,>=0.40.0 in c:\\users\\dell\\anaconda3\\lib\\site-packages (from fastapi<1.0.0,>=0.111.0->prefect) (0.46.2)\n",
      "Requirement already satisfied: h11>=0.16 in c:\\users\\dell\\anaconda3\\lib\\site-packages (from httpcore<2.0.0,>=1.0.5->prefect) (0.16.0)\n",
      "Requirement already satisfied: h2<5,>=3 in c:\\users\\dell\\anaconda3\\lib\\site-packages (from httpx[http2]!=0.23.2,>=0.23->prefect) (4.2.0)\n",
      "Requirement already satisfied: zipp>=3.20 in c:\\users\\dell\\anaconda3\\lib\\site-packages (from importlib-metadata>=4.4->prefect) (3.21.0)\n",
      "Requirement already satisfied: MarkupSafe>=2.0 in c:\\users\\dell\\anaconda3\\lib\\site-packages (from jinja2<4.0.0,>=3.1.6->prefect) (2.0.1)\n",
      "Requirement already satisfied: jsonpointer>=1.9 in c:\\users\\dell\\anaconda3\\lib\\site-packages (from jsonpatch<2.0,>=1.32->prefect) (3.0.0)\n",
      "Requirement already satisfied: attrs>=22.2.0 in c:\\users\\dell\\anaconda3\\lib\\site-packages (from jsonschema<5.0.0,>=4.0.0->prefect) (25.3.0)\n",
      "Requirement already satisfied: jsonschema-specifications>=2023.03.6 in c:\\users\\dell\\anaconda3\\lib\\site-packages (from jsonschema<5.0.0,>=4.0.0->prefect) (2025.4.1)\n",
      "Requirement already satisfied: referencing>=0.28.4 in c:\\users\\dell\\anaconda3\\lib\\site-packages (from jsonschema<5.0.0,>=4.0.0->prefect) (0.36.2)\n",
      "Requirement already satisfied: rpds-py>=0.7.1 in c:\\users\\dell\\anaconda3\\lib\\site-packages (from jsonschema<5.0.0,>=4.0.0->prefect) (0.24.0)\n",
      "Requirement already satisfied: deprecated>=1.2.6 in c:\\users\\dell\\anaconda3\\lib\\site-packages (from opentelemetry-api<2.0.0,>=1.27.0->prefect) (1.2.18)\n",
      "Requirement already satisfied: pyparsing!=3.0.5,>=2.0.2 in c:\\users\\dell\\anaconda3\\lib\\site-packages (from packaging<25.1,>=21.3->prefect) (3.0.4)\n",
      "Requirement already satisfied: tzdata>=2020.1 in c:\\users\\dell\\anaconda3\\lib\\site-packages (from pendulum<4,>=3.0.0->prefect) (2022.7)\n",
      "Requirement already satisfied: annotated-types>=0.6.0 in c:\\users\\dell\\anaconda3\\lib\\site-packages (from pydantic!=2.10.0,<3.0.0,>=2.9->prefect) (0.7.0)\n",
      "Requirement already satisfied: typing-inspection>=0.4.0 in c:\\users\\dell\\anaconda3\\lib\\site-packages (from pydantic!=2.10.0,<3.0.0,>=2.9->prefect) (0.4.0)\n",
      "Requirement already satisfied: python-dotenv>=0.21.0 in c:\\users\\dell\\anaconda3\\lib\\site-packages (from pydantic-settings!=2.9.0,<3.0.0,>2.2.1->prefect) (1.1.0)\n",
      "Requirement already satisfied: six>=1.5 in c:\\users\\dell\\anaconda3\\lib\\site-packages (from python-dateutil<3.0.0,>=2.8.2->prefect) (1.16.0)\n",
      "Requirement already satisfied: text-unidecode>=1.3 in c:\\users\\dell\\anaconda3\\lib\\site-packages (from python-slugify<9.0,>=5.0->prefect) (1.3)\n",
      "Requirement already satisfied: markdown-it-py>=2.2.0 in c:\\users\\dell\\anaconda3\\lib\\site-packages (from rich<15.0,>=11.0->prefect) (3.0.0)\n",
      "Requirement already satisfied: pygments<3.0.0,>=2.13.0 in c:\\users\\dell\\anaconda3\\lib\\site-packages (from rich<15.0,>=11.0->prefect) (2.19.1)\n",
      "Requirement already satisfied: ruamel.yaml.clib>=0.2.7 in c:\\users\\dell\\anaconda3\\lib\\site-packages (from ruamel-yaml>=0.17.0->prefect) (0.2.12)\n",
      "Requirement already satisfied: greenlet>=1 in c:\\users\\dell\\anaconda3\\lib\\site-packages (from sqlalchemy[asyncio]<3.0.0,>=2.0->prefect) (1.1.1)\n",
      "Requirement already satisfied: shellingham>=1.3.0 in c:\\users\\dell\\anaconda3\\lib\\site-packages (from typer!=0.12.2,<0.16.0,>=0.12.0->prefect) (1.5.4)\n",
      "Requirement already satisfied: pycparser in c:\\users\\dell\\anaconda3\\lib\\site-packages (from cffi>=1.12->cryptography>=36.0.1->prefect) (2.21)\n",
      "Requirement already satisfied: wrapt<2,>=1.10 in c:\\users\\dell\\anaconda3\\lib\\site-packages (from deprecated>=1.2.6->opentelemetry-api<2.0.0,>=1.27.0->prefect) (1.12.1)\n",
      "Requirement already satisfied: hyperframe<7,>=6.1 in c:\\users\\dell\\anaconda3\\lib\\site-packages (from h2<5,>=3->httpx[http2]!=0.23.2,>=0.23->prefect) (6.1.0)\n",
      "Requirement already satisfied: hpack<5,>=4.1 in c:\\users\\dell\\anaconda3\\lib\\site-packages (from h2<5,>=3->httpx[http2]!=0.23.2,>=0.23->prefect) (4.1.0)\n",
      "Requirement already satisfied: mdurl~=0.1 in c:\\users\\dell\\anaconda3\\lib\\site-packages (from markdown-it-py>=2.2.0->rich<15.0,>=11.0->prefect) (0.1.2)\n",
      "Requirement already satisfied: charset-normalizer~=2.0.0 in c:\\users\\dell\\anaconda3\\lib\\site-packages (from requests->apprise<2.0.0,>=1.1.0->prefect) (2.0.4)\n",
      "Requirement already satisfied: oauthlib>=3.0.0 in c:\\users\\dell\\anaconda3\\lib\\site-packages (from requests-oauthlib->apprise<2.0.0,>=1.1.0->prefect) (3.2.2)\n"
     ]
    }
   ],
   "source": [
    "pip install prefect"
   ]
  },
  {
   "cell_type": "code",
   "execution_count": 7,
   "id": "728c4574",
   "metadata": {},
   "outputs": [
    {
     "name": "stdout",
     "output_type": "stream",
     "text": [
      "Requirement already satisfied: referencing in c:\\users\\dell\\anaconda3\\lib\\site-packages (0.36.2)\n",
      "Requirement already satisfied: attrs>=22.2.0 in c:\\users\\dell\\anaconda3\\lib\\site-packages (from referencing) (25.3.0)\n",
      "Requirement already satisfied: rpds-py>=0.7.0 in c:\\users\\dell\\anaconda3\\lib\\site-packages (from referencing) (0.24.0)\n",
      "Requirement already satisfied: typing-extensions>=4.4.0 in c:\\users\\dell\\anaconda3\\lib\\site-packages (from referencing) (4.13.2)\n",
      "Note: you may need to restart the kernel to use updated packages.\n"
     ]
    },
    {
     "name": "stderr",
     "output_type": "stream",
     "text": [
      "\n",
      "[notice] A new release of pip is available: 23.1.2 -> 25.1.1\n",
      "[notice] To update, run: python.exe -m pip install --upgrade pip\n"
     ]
    }
   ],
   "source": [
    "pip install referencing"
   ]
  },
  {
   "cell_type": "code",
   "execution_count": 8,
   "id": "061cb03f",
   "metadata": {},
   "outputs": [
    {
     "name": "stdout",
     "output_type": "stream",
     "text": [
      "Requirement already satisfied: attrs in c:\\users\\dell\\anaconda3\\lib\\site-packages (25.3.0)\n",
      "Note: you may need to restart the kernel to use updated packages.\n"
     ]
    },
    {
     "name": "stderr",
     "output_type": "stream",
     "text": [
      "\n",
      "[notice] A new release of pip is available: 23.1.2 -> 25.1.1\n",
      "[notice] To update, run: python.exe -m pip install --upgrade pip\n"
     ]
    }
   ],
   "source": [
    "pip install -U attrs"
   ]
  },
  {
   "cell_type": "code",
   "execution_count": 9,
   "id": "e1f55418",
   "metadata": {},
   "outputs": [
    {
     "name": "stdout",
     "output_type": "stream",
     "text": [
      "Requirement already satisfied: attrs>=23.1.0 in c:\\users\\dell\\anaconda3\\lib\\site-packages (25.3.0)\n",
      "Note: you may need to restart the kernel to use updated packages.\n"
     ]
    },
    {
     "name": "stderr",
     "output_type": "stream",
     "text": [
      "\n",
      "[notice] A new release of pip is available: 23.1.2 -> 25.1.1\n",
      "[notice] To update, run: python.exe -m pip install --upgrade pip\n"
     ]
    }
   ],
   "source": [
    "pip install -U \"attrs>=23.1.0\""
   ]
  },
  {
   "cell_type": "code",
   "execution_count": 10,
   "id": "318490cc",
   "metadata": {},
   "outputs": [
    {
     "name": "stdout",
     "output_type": "stream",
     "text": [
      "Name: attrs\n",
      "Version: 25.3.0\n",
      "Summary: Classes Without Boilerplate\n",
      "Home-page: \n",
      "Author: \n",
      "Author-email: Hynek Schlawack <hs@ox.cx>\n",
      "License: \n",
      "Location: c:\\users\\dell\\anaconda3\\lib\\site-packages\n",
      "Requires: \n",
      "Required-by: aiohttp, Automat, black, jsonschema, pytest, referencing, service-identity, Twisted\n",
      "Note: you may need to restart the kernel to use updated packages.\n"
     ]
    }
   ],
   "source": [
    "pip show attrs"
   ]
  },
  {
   "cell_type": "code",
   "execution_count": 11,
   "id": "2e1a2587",
   "metadata": {},
   "outputs": [
    {
     "name": "stdout",
     "output_type": "stream",
     "text": [
      "Requirement already satisfied: jsonschema>=4.19.0 in c:\\users\\dell\\anaconda3\\lib\\site-packages (4.23.0)\n",
      "Requirement already satisfied: attrs>=22.2.0 in c:\\users\\dell\\anaconda3\\lib\\site-packages (from jsonschema>=4.19.0) (25.3.0)\n",
      "Requirement already satisfied: jsonschema-specifications>=2023.03.6 in c:\\users\\dell\\anaconda3\\lib\\site-packages (from jsonschema>=4.19.0) (2025.4.1)\n",
      "Requirement already satisfied: referencing>=0.28.4 in c:\\users\\dell\\anaconda3\\lib\\site-packages (from jsonschema>=4.19.0) (0.36.2)\n",
      "Requirement already satisfied: rpds-py>=0.7.1 in c:\\users\\dell\\anaconda3\\lib\\site-packages (from jsonschema>=4.19.0) (0.24.0)\n",
      "Requirement already satisfied: typing-extensions>=4.4.0 in c:\\users\\dell\\anaconda3\\lib\\site-packages (from referencing>=0.28.4->jsonschema>=4.19.0) (4.13.2)\n",
      "Note: you may need to restart the kernel to use updated packages.\n"
     ]
    },
    {
     "name": "stderr",
     "output_type": "stream",
     "text": [
      "\n",
      "[notice] A new release of pip is available: 23.1.2 -> 25.1.1\n",
      "[notice] To update, run: python.exe -m pip install --upgrade pip\n"
     ]
    }
   ],
   "source": [
    "pip install -U \"jsonschema>=4.19.0\""
   ]
  },
  {
   "cell_type": "code",
   "execution_count": 13,
   "id": "cbc2686a",
   "metadata": {},
   "outputs": [
    {
     "name": "stdout",
     "output_type": "stream",
     "text": [
      "Name: jsonschema\n",
      "Version: 4.23.0\n",
      "Summary: An implementation of JSON Schema validation for Python\n",
      "Home-page: \n",
      "Author: \n",
      "Author-email: Julian Berman <Julian+jsonschema@GrayVines.com>\n",
      "License: MIT\n",
      "Location: c:\\users\\dell\\anaconda3\\lib\\site-packages\n",
      "Requires: attrs, jsonschema-specifications, referencing, rpds-py\n",
      "Required-by: jupyterlab-server, nbformat, prefect, spyder\n",
      "Note: you may need to restart the kernel to use updated packages.\n"
     ]
    }
   ],
   "source": [
    "pip show jsonschema"
   ]
  },
  {
   "cell_type": "code",
   "execution_count": 2,
   "id": "08f21687",
   "metadata": {},
   "outputs": [
    {
     "name": "stdout",
     "output_type": "stream",
     "text": [
      "Requirement already satisfied: numpy in c:\\users\\dell\\anaconda3\\lib\\site-packages (2.0.2)\n",
      "Note: you may need to restart the kernel to use updated packages.\n"
     ]
    },
    {
     "name": "stderr",
     "output_type": "stream",
     "text": [
      "\n",
      "[notice] A new release of pip is available: 23.1.2 -> 25.1.1\n",
      "[notice] To update, run: python.exe -m pip install --upgrade pip\n"
     ]
    }
   ],
   "source": [
    "pip install -U numpy"
   ]
  },
  {
   "cell_type": "code",
   "execution_count": 3,
   "id": "c53c7dbc",
   "metadata": {},
   "outputs": [
    {
     "name": "stdout",
     "output_type": "stream",
     "text": [
      "Requirement already satisfied: bottleneck in c:\\users\\dell\\anaconda3\\lib\\site-packages (1.3.4)\n",
      "Collecting bottleneck\n",
      "  Downloading Bottleneck-1.4.2-cp39-cp39-win_amd64.whl (111 kB)\n",
      "     -------------------------------------- 111.6/111.6 kB 6.8 MB/s eta 0:00:00\n",
      "Requirement already satisfied: numpy in c:\\users\\dell\\anaconda3\\lib\\site-packages (from bottleneck) (2.0.2)\n",
      "Installing collected packages: bottleneck\n",
      "  Attempting uninstall: bottleneck\n",
      "    Found existing installation: Bottleneck 1.3.4\n",
      "    Uninstalling Bottleneck-1.3.4:\n",
      "      Successfully uninstalled Bottleneck-1.3.4\n",
      "Successfully installed bottleneck-1.4.2\n",
      "Note: you may need to restart the kernel to use updated packages.\n"
     ]
    },
    {
     "name": "stderr",
     "output_type": "stream",
     "text": [
      "\n",
      "[notice] A new release of pip is available: 23.1.2 -> 25.1.1\n",
      "[notice] To update, run: python.exe -m pip install --upgrade pip\n"
     ]
    }
   ],
   "source": [
    "pip install -U bottleneck"
   ]
  },
  {
   "cell_type": "code",
   "execution_count": 4,
   "id": "7b96eba6",
   "metadata": {},
   "outputs": [
    {
     "data": {
      "text/html": [
       "<pre style=\"white-space:pre;overflow-x:auto;line-height:normal;font-family:Menlo,'DejaVu Sans Mono',consolas,'Courier New',monospace\">10:24:56.922 | <span style=\"color: #008080; text-decoration-color: #008080\">INFO</span>    | Flow run<span style=\"color: #800080; text-decoration-color: #800080\"> 'complex-chowchow'</span> - Beginning flow run<span style=\"color: #800080; text-decoration-color: #800080\"> 'complex-chowchow'</span> for flow<span style=\"color: #800080; text-decoration-color: #800080; font-weight: bold\"> 'hello_flow: 1.quick_start'</span>\n",
       "</pre>\n"
      ],
      "text/plain": [
       "10:24:56.922 | \u001b[36mINFO\u001b[0m    | Flow run\u001b[35m 'complex-chowchow'\u001b[0m - Beginning flow run\u001b[35m 'complex-chowchow'\u001b[0m for flow\u001b[1;35m 'hello_flow: 1.quick_start'\u001b[0m\n"
      ]
     },
     "metadata": {},
     "output_type": "display_data"
    },
    {
     "data": {
      "text/html": [
       "<pre style=\"white-space:pre;overflow-x:auto;line-height:normal;font-family:Menlo,'DejaVu Sans Mono',consolas,'Courier New',monospace\">10:24:56.934 | <span style=\"color: #008080; text-decoration-color: #008080\">INFO</span>    | Task run 'say_hello-ac6' - Finished in state <span style=\"color: #008000; text-decoration-color: #008000\">Completed</span>()\n",
       "</pre>\n"
      ],
      "text/plain": [
       "10:24:56.934 | \u001b[36mINFO\u001b[0m    | Task run 'say_hello-ac6' - Finished in state \u001b[32mCompleted\u001b[0m()\n"
      ]
     },
     "metadata": {},
     "output_type": "display_data"
    },
    {
     "data": {
      "text/html": [
       "<pre style=\"white-space:pre;overflow-x:auto;line-height:normal;font-family:Menlo,'DejaVu Sans Mono',consolas,'Courier New',monospace\">10:24:56.962 | <span style=\"color: #008080; text-decoration-color: #008080\">INFO</span>    | Task run 'get_name-caa' - Finished in state <span style=\"color: #008000; text-decoration-color: #008000\">Completed</span>()\n",
       "</pre>\n"
      ],
      "text/plain": [
       "10:24:56.962 | \u001b[36mINFO\u001b[0m    | Task run 'get_name-caa' - Finished in state \u001b[32mCompleted\u001b[0m()\n"
      ]
     },
     "metadata": {},
     "output_type": "display_data"
    },
    {
     "name": "stdout",
     "output_type": "stream",
     "text": [
      ">>> result: Hello, DSI321: Big Data Infrastructure!\n"
     ]
    },
    {
     "data": {
      "text/html": [
       "<pre style=\"white-space:pre;overflow-x:auto;line-height:normal;font-family:Menlo,'DejaVu Sans Mono',consolas,'Courier New',monospace\">10:24:57.036 | <span style=\"color: #008080; text-decoration-color: #008080\">INFO</span>    | Flow run<span style=\"color: #800080; text-decoration-color: #800080\"> 'complex-chowchow'</span> - Finished in state <span style=\"color: #008000; text-decoration-color: #008000\">Completed</span>()\n",
       "</pre>\n"
      ],
      "text/plain": [
       "10:24:57.036 | \u001b[36mINFO\u001b[0m    | Flow run\u001b[35m 'complex-chowchow'\u001b[0m - Finished in state \u001b[32mCompleted\u001b[0m()\n"
      ]
     },
     "metadata": {},
     "output_type": "display_data"
    }
   ],
   "source": [
    "from prefect import flow, task\n",
    "\n",
    "@task\n",
    "def say_hello():\n",
    "    return \"Hello, \"\n",
    "\n",
    "@task\n",
    "def get_name():\n",
    "    return \"DSI321: Big Data Infrastructure\"\n",
    "    \n",
    "@flow(name=\"hello_flow: 1.quick_start\")\n",
    "def hello_flow():\n",
    "    result = say_hello() + get_name() + \"!\"\n",
    "    print(f\">>> result: {result}\")\n",
    "    return result\n",
    "\n",
    "if __name__ == '__main__':\n",
    "    hello_flow()"
   ]
  }
 ],
 "metadata": {
  "kernelspec": {
   "display_name": "Python 3",
   "language": "python",
   "name": "python3"
  },
  "language_info": {
   "codemirror_mode": {
    "name": "ipython",
    "version": 3
   },
   "file_extension": ".py",
   "mimetype": "text/x-python",
   "name": "python",
   "nbconvert_exporter": "python",
   "pygments_lexer": "ipython3",
   "version": "3.9.12"
  }
 },
 "nbformat": 4,
 "nbformat_minor": 5
}
