{
 "cells": [
  {
   "cell_type": "code",
   "execution_count": 1,
   "id": "10e262f5",
   "metadata": {},
   "outputs": [
    {
     "name": "stdout",
     "output_type": "stream",
     "text": [
      "Requirement already satisfied: prefect in /usr/local/lib/python3.11/site-packages (3.0.0rc14)\n",
      "Collecting prefect\n",
      "  Downloading prefect-3.4.1-py3-none-any.whl.metadata (13 kB)\n",
      "Requirement already satisfied: aiosqlite<1.0.0,>=0.17.0 in /usr/local/lib/python3.11/site-packages (from prefect) (0.20.0)\n",
      "Requirement already satisfied: alembic<2.0.0,>=1.7.5 in /usr/local/lib/python3.11/site-packages (from prefect) (1.13.2)\n",
      "Requirement already satisfied: anyio<5.0.0,>=4.4.0 in /usr/local/lib/python3.11/site-packages (from prefect) (4.4.0)\n",
      "Requirement already satisfied: apprise<2.0.0,>=1.1.0 in /usr/local/lib/python3.11/site-packages (from prefect) (1.8.1)\n",
      "Requirement already satisfied: asgi-lifespan<3.0,>=1.0 in /usr/local/lib/python3.11/site-packages (from prefect) (2.1.0)\n",
      "Requirement already satisfied: asyncpg<1.0.0,>=0.23 in /usr/local/lib/python3.11/site-packages (from prefect) (0.29.0)\n",
      "Requirement already satisfied: cachetools<6.0,>=5.3 in /usr/local/lib/python3.11/site-packages (from prefect) (5.4.0)\n",
      "Requirement already satisfied: click<8.2,>=8.0 in /usr/local/lib/python3.11/site-packages (from prefect) (8.1.7)\n",
      "Requirement already satisfied: cloudpickle<4.0,>=2.0 in /usr/local/lib/python3.11/site-packages (from prefect) (3.0.0)\n",
      "Requirement already satisfied: coolname<3.0.0,>=1.0.4 in /usr/local/lib/python3.11/site-packages (from prefect) (2.2.0)\n",
      "Requirement already satisfied: cryptography>=36.0.1 in /usr/local/lib/python3.11/site-packages (from prefect) (43.0.0)\n",
      "Requirement already satisfied: dateparser<2.0.0,>=1.1.1 in /usr/local/lib/python3.11/site-packages (from prefect) (1.2.0)\n",
      "Requirement already satisfied: docker<8.0,>=4.0 in /usr/local/lib/python3.11/site-packages (from prefect) (7.1.0)\n",
      "Requirement already satisfied: exceptiongroup>=1.0.0 in /usr/local/lib/python3.11/site-packages (from prefect) (1.2.2)\n",
      "Requirement already satisfied: fastapi<1.0.0,>=0.111.0 in /usr/local/lib/python3.11/site-packages (from prefect) (0.111.1)\n",
      "Requirement already satisfied: fsspec>=2022.5.0 in /usr/local/lib/python3.11/site-packages (from prefect) (2025.3.2)\n",
      "Requirement already satisfied: graphviz>=0.20.1 in /usr/local/lib/python3.11/site-packages (from prefect) (0.20.3)\n",
      "Collecting griffe<2.0.0,>=0.49.0 (from prefect)\n",
      "  Downloading griffe-1.7.3-py3-none-any.whl.metadata (5.0 kB)\n",
      "Requirement already satisfied: httpcore<2.0.0,>=1.0.5 in /usr/local/lib/python3.11/site-packages (from prefect) (1.0.5)\n",
      "Requirement already satisfied: httpx!=0.23.2,>=0.23 in /usr/local/lib/python3.11/site-packages (from httpx[http2]!=0.23.2,>=0.23->prefect) (0.28.1)\n",
      "Requirement already satisfied: humanize<5.0.0,>=4.9.0 in /usr/local/lib/python3.11/site-packages (from prefect) (4.10.0)\n",
      "Requirement already satisfied: jinja2-humanize-extension>=0.4.0 in /usr/local/lib/python3.11/site-packages (from prefect) (0.4.0)\n",
      "Collecting jinja2<4.0.0,>=3.1.6 (from prefect)\n",
      "  Downloading jinja2-3.1.6-py3-none-any.whl.metadata (2.9 kB)\n",
      "Requirement already satisfied: jsonpatch<2.0,>=1.32 in /usr/local/lib/python3.11/site-packages (from prefect) (1.33)\n",
      "Requirement already satisfied: jsonschema<5.0.0,>=4.0.0 in /usr/local/lib/python3.11/site-packages (from prefect) (4.23.0)\n",
      "Collecting opentelemetry-api<2.0.0,>=1.27.0 (from prefect)\n",
      "  Downloading opentelemetry_api-1.32.1-py3-none-any.whl.metadata (1.6 kB)\n",
      "Requirement already satisfied: orjson<4.0,>=3.7 in /usr/local/lib/python3.11/site-packages (from prefect) (3.10.6)\n",
      "Requirement already satisfied: packaging<25.1,>=21.3 in /usr/local/lib/python3.11/site-packages (from prefect) (24.1)\n",
      "Requirement already satisfied: pathspec>=0.8.0 in /usr/local/lib/python3.11/site-packages (from prefect) (0.12.1)\n",
      "Requirement already satisfied: pendulum<4,>=3.0.0 in /usr/local/lib/python3.11/site-packages (from prefect) (3.0.0)\n",
      "Requirement already satisfied: prometheus-client>=0.20.0 in /usr/local/lib/python3.11/site-packages (from prefect) (0.20.0)\n",
      "Collecting pydantic!=2.10.0,<3.0.0,>=2.9 (from prefect)\n",
      "  Downloading pydantic-2.11.4-py3-none-any.whl.metadata (66 kB)\n",
      "\u001b[2K     \u001b[90m━━━━━━━━━━━━━━━━━━━━━━━━━━━━━━━━━━━━━━━━\u001b[0m \u001b[32m66.6/66.6 kB\u001b[0m \u001b[31m4.8 MB/s\u001b[0m eta \u001b[36m0:00:00\u001b[0m\n",
      "\u001b[?25hRequirement already satisfied: pydantic-core<3.0.0,>=2.12.0 in /usr/local/lib/python3.11/site-packages (from prefect) (2.20.1)\n",
      "Requirement already satisfied: pydantic-extra-types<3.0.0,>=2.8.2 in /usr/local/lib/python3.11/site-packages (from prefect) (2.9.0)\n",
      "Requirement already satisfied: pydantic-settings!=2.9.0,<3.0.0,>2.2.1 in /usr/local/lib/python3.11/site-packages (from prefect) (2.4.0)\n",
      "Requirement already satisfied: python-dateutil<3.0.0,>=2.8.2 in /usr/local/lib/python3.11/site-packages (from prefect) (2.9.0.post0)\n",
      "Requirement already satisfied: python-slugify<9.0,>=5.0 in /usr/local/lib/python3.11/site-packages (from prefect) (8.0.4)\n",
      "Collecting python-socks<3.0,>=2.5.3 (from python-socks[asyncio]<3.0,>=2.5.3->prefect)\n",
      "  Downloading python_socks-2.7.1-py3-none-any.whl.metadata (8.0 kB)\n",
      "Requirement already satisfied: pytz<2026,>=2021.1 in /usr/local/lib/python3.11/site-packages (from prefect) (2024.1)\n",
      "Requirement already satisfied: pyyaml<7.0.0,>=5.4.1 in /usr/local/lib/python3.11/site-packages (from prefect) (6.0.1)\n",
      "Requirement already satisfied: readchar<5.0.0,>=4.0.0 in /usr/local/lib/python3.11/site-packages (from prefect) (4.1.0)\n",
      "Requirement already satisfied: rfc3339-validator<0.2.0,>=0.1.4 in /usr/local/lib/python3.11/site-packages (from prefect) (0.1.4)\n",
      "Requirement already satisfied: rich<15.0,>=11.0 in /usr/local/lib/python3.11/site-packages (from prefect) (13.7.1)\n",
      "Requirement already satisfied: ruamel-yaml>=0.17.0 in /usr/local/lib/python3.11/site-packages (from prefect) (0.18.6)\n",
      "Requirement already satisfied: sniffio<2.0.0,>=1.3.0 in /usr/local/lib/python3.11/site-packages (from prefect) (1.3.1)\n",
      "Requirement already satisfied: sqlalchemy<3.0.0,>=2.0 in /usr/local/lib/python3.11/site-packages (from sqlalchemy[asyncio]<3.0.0,>=2.0->prefect) (2.0.31)\n",
      "Requirement already satisfied: toml>=0.10.0 in /usr/local/lib/python3.11/site-packages (from prefect) (0.10.2)\n",
      "Requirement already satisfied: typer!=0.12.2,<0.16.0,>=0.12.0 in /usr/local/lib/python3.11/site-packages (from prefect) (0.12.3)\n",
      "Requirement already satisfied: typing-extensions<5.0.0,>=4.10.0 in /usr/local/lib/python3.11/site-packages (from prefect) (4.12.2)\n",
      "Requirement already satisfied: ujson<6.0.0,>=5.8.0 in /usr/local/lib/python3.11/site-packages (from prefect) (5.10.0)\n",
      "Collecting uuid7>=0.1.0 (from prefect)\n",
      "  Downloading uuid7-0.1.0-py2.py3-none-any.whl.metadata (3.6 kB)\n",
      "Collecting uv>=0.6.0 (from prefect)\n",
      "  Downloading uv-0.7.3-py3-none-manylinux_2_17_x86_64.manylinux2014_x86_64.whl.metadata (11 kB)\n",
      "Requirement already satisfied: uvicorn!=0.29.0,>=0.14.0 in /usr/local/lib/python3.11/site-packages (from prefect) (0.30.4)\n",
      "Collecting websockets<16.0,>=13.0 (from prefect)\n",
      "  Downloading websockets-15.0.1-cp311-cp311-manylinux_2_5_x86_64.manylinux1_x86_64.manylinux_2_17_x86_64.manylinux2014_x86_64.whl.metadata (6.8 kB)\n",
      "Requirement already satisfied: Mako in /usr/local/lib/python3.11/site-packages (from alembic<2.0.0,>=1.7.5->prefect) (1.3.5)\n",
      "Requirement already satisfied: idna>=2.8 in /usr/local/lib/python3.11/site-packages (from anyio<5.0.0,>=4.4.0->prefect) (3.7)\n",
      "Requirement already satisfied: certifi in /usr/local/lib/python3.11/site-packages (from apprise<2.0.0,>=1.1.0->prefect) (2024.7.4)\n",
      "Requirement already satisfied: requests in /usr/local/lib/python3.11/site-packages (from apprise<2.0.0,>=1.1.0->prefect) (2.32.3)\n",
      "Requirement already satisfied: requests-oauthlib in /usr/local/lib/python3.11/site-packages (from apprise<2.0.0,>=1.1.0->prefect) (2.0.0)\n",
      "Requirement already satisfied: markdown in /usr/local/lib/python3.11/site-packages (from apprise<2.0.0,>=1.1.0->prefect) (3.6)\n",
      "Requirement already satisfied: async-timeout>=4.0.3 in /usr/local/lib/python3.11/site-packages (from asyncpg<1.0.0,>=0.23->prefect) (4.0.3)\n",
      "Requirement already satisfied: cffi>=1.12 in /usr/local/lib/python3.11/site-packages (from cryptography>=36.0.1->prefect) (1.16.0)\n",
      "Requirement already satisfied: regex!=2019.02.19,!=2021.8.27 in /usr/local/lib/python3.11/site-packages (from dateparser<2.0.0,>=1.1.1->prefect) (2024.7.24)\n",
      "Requirement already satisfied: tzlocal in /usr/local/lib/python3.11/site-packages (from dateparser<2.0.0,>=1.1.1->prefect) (5.2)\n",
      "Requirement already satisfied: urllib3>=1.26.0 in /usr/local/lib/python3.11/site-packages (from docker<8.0,>=4.0->prefect) (2.2.2)\n",
      "Requirement already satisfied: starlette<0.38.0,>=0.37.2 in /usr/local/lib/python3.11/site-packages (from fastapi<1.0.0,>=0.111.0->prefect) (0.37.2)\n",
      "Requirement already satisfied: fastapi-cli>=0.0.2 in /usr/local/lib/python3.11/site-packages (from fastapi<1.0.0,>=0.111.0->prefect) (0.0.4)\n",
      "Requirement already satisfied: python-multipart>=0.0.7 in /usr/local/lib/python3.11/site-packages (from fastapi<1.0.0,>=0.111.0->prefect) (0.0.9)\n",
      "Requirement already satisfied: email_validator>=2.0.0 in /usr/local/lib/python3.11/site-packages (from fastapi<1.0.0,>=0.111.0->prefect) (2.2.0)\n",
      "Requirement already satisfied: colorama>=0.4 in /usr/local/lib/python3.11/site-packages (from griffe<2.0.0,>=0.49.0->prefect) (0.4.6)\n",
      "Requirement already satisfied: h11<0.15,>=0.13 in /usr/local/lib/python3.11/site-packages (from httpcore<2.0.0,>=1.0.5->prefect) (0.14.0)\n",
      "Requirement already satisfied: h2<5,>=3 in /usr/local/lib/python3.11/site-packages (from httpx[http2]!=0.23.2,>=0.23->prefect) (4.1.0)\n",
      "Requirement already satisfied: MarkupSafe>=2.0 in /usr/local/lib/python3.11/site-packages (from jinja2<4.0.0,>=3.1.6->prefect) (2.1.5)\n",
      "Requirement already satisfied: jsonpointer>=1.9 in /usr/local/lib/python3.11/site-packages (from jsonpatch<2.0,>=1.32->prefect) (3.0.0)\n",
      "Requirement already satisfied: attrs>=22.2.0 in /usr/local/lib/python3.11/site-packages (from jsonschema<5.0.0,>=4.0.0->prefect) (25.3.0)\n",
      "Requirement already satisfied: jsonschema-specifications>=2023.03.6 in /usr/local/lib/python3.11/site-packages (from jsonschema<5.0.0,>=4.0.0->prefect) (2023.12.1)\n",
      "Requirement already satisfied: referencing>=0.28.4 in /usr/local/lib/python3.11/site-packages (from jsonschema<5.0.0,>=4.0.0->prefect) (0.35.1)\n",
      "Requirement already satisfied: rpds-py>=0.7.1 in /usr/local/lib/python3.11/site-packages (from jsonschema<5.0.0,>=4.0.0->prefect) (0.19.1)\n",
      "Collecting deprecated>=1.2.6 (from opentelemetry-api<2.0.0,>=1.27.0->prefect)\n",
      "  Downloading Deprecated-1.2.18-py2.py3-none-any.whl.metadata (5.7 kB)\n",
      "Collecting importlib-metadata<8.7.0,>=6.0 (from opentelemetry-api<2.0.0,>=1.27.0->prefect)\n",
      "  Downloading importlib_metadata-8.6.1-py3-none-any.whl.metadata (4.7 kB)\n",
      "Requirement already satisfied: tzdata>=2020.1 in /usr/local/lib/python3.11/site-packages (from pendulum<4,>=3.0.0->prefect) (2024.1)\n",
      "Requirement already satisfied: time-machine>=2.6.0 in /usr/local/lib/python3.11/site-packages (from pendulum<4,>=3.0.0->prefect) (2.14.2)\n",
      "Requirement already satisfied: annotated-types>=0.6.0 in /usr/local/lib/python3.11/site-packages (from pydantic!=2.10.0,<3.0.0,>=2.9->prefect) (0.7.0)\n",
      "Collecting pydantic-core<3.0.0,>=2.12.0 (from prefect)\n",
      "  Downloading pydantic_core-2.33.2-cp311-cp311-manylinux_2_17_x86_64.manylinux2014_x86_64.whl.metadata (6.8 kB)\n",
      "Collecting typing-inspection>=0.4.0 (from pydantic!=2.10.0,<3.0.0,>=2.9->prefect)\n",
      "  Downloading typing_inspection-0.4.0-py3-none-any.whl.metadata (2.6 kB)\n",
      "Requirement already satisfied: python-dotenv>=0.21.0 in /usr/local/lib/python3.11/site-packages (from pydantic-settings!=2.9.0,<3.0.0,>2.2.1->prefect) (1.0.1)\n",
      "Requirement already satisfied: six>=1.5 in /usr/local/lib/python3.11/site-packages (from python-dateutil<3.0.0,>=2.8.2->prefect) (1.16.0)\n",
      "Requirement already satisfied: text-unidecode>=1.3 in /usr/local/lib/python3.11/site-packages (from python-slugify<9.0,>=5.0->prefect) (1.3)\n",
      "Requirement already satisfied: markdown-it-py>=2.2.0 in /usr/local/lib/python3.11/site-packages (from rich<15.0,>=11.0->prefect) (3.0.0)\n",
      "Requirement already satisfied: pygments<3.0.0,>=2.13.0 in /usr/local/lib/python3.11/site-packages (from rich<15.0,>=11.0->prefect) (2.18.0)\n",
      "Requirement already satisfied: ruamel.yaml.clib>=0.2.7 in /usr/local/lib/python3.11/site-packages (from ruamel-yaml>=0.17.0->prefect) (0.2.8)\n",
      "Requirement already satisfied: greenlet!=0.4.17 in /usr/local/lib/python3.11/site-packages (from sqlalchemy<3.0.0,>=2.0->sqlalchemy[asyncio]<3.0.0,>=2.0->prefect) (3.0.3)\n",
      "Requirement already satisfied: shellingham>=1.3.0 in /usr/local/lib/python3.11/site-packages (from typer!=0.12.2,<0.16.0,>=0.12.0->prefect) (1.5.4)\n",
      "Requirement already satisfied: pycparser in /usr/local/lib/python3.11/site-packages (from cffi>=1.12->cryptography>=36.0.1->prefect) (2.22)\n",
      "Requirement already satisfied: wrapt<2,>=1.10 in /usr/local/lib/python3.11/site-packages (from deprecated>=1.2.6->opentelemetry-api<2.0.0,>=1.27.0->prefect) (1.16.0)\n",
      "Requirement already satisfied: dnspython>=2.0.0 in /usr/local/lib/python3.11/site-packages (from email_validator>=2.0.0->fastapi<1.0.0,>=0.111.0->prefect) (2.6.1)\n",
      "Requirement already satisfied: hyperframe<7,>=6.0 in /usr/local/lib/python3.11/site-packages (from h2<5,>=3->httpx[http2]!=0.23.2,>=0.23->prefect) (6.0.1)\n",
      "Requirement already satisfied: hpack<5,>=4.0 in /usr/local/lib/python3.11/site-packages (from h2<5,>=3->httpx[http2]!=0.23.2,>=0.23->prefect) (4.0.0)\n",
      "Requirement already satisfied: zipp>=3.20 in /usr/local/lib/python3.11/site-packages (from importlib-metadata<8.7.0,>=6.0->opentelemetry-api<2.0.0,>=1.27.0->prefect) (3.21.0)\n",
      "Requirement already satisfied: mdurl~=0.1 in /usr/local/lib/python3.11/site-packages (from markdown-it-py>=2.2.0->rich<15.0,>=11.0->prefect) (0.1.2)\n",
      "Requirement already satisfied: charset-normalizer<4,>=2 in /usr/local/lib/python3.11/site-packages (from requests->apprise<2.0.0,>=1.1.0->prefect) (3.3.2)\n",
      "Requirement already satisfied: httptools>=0.5.0 in /usr/local/lib/python3.11/site-packages (from uvicorn[standard]>=0.12.0->fastapi<1.0.0,>=0.111.0->prefect) (0.6.1)\n",
      "Requirement already satisfied: uvloop!=0.15.0,!=0.15.1,>=0.14.0 in /usr/local/lib/python3.11/site-packages (from uvicorn[standard]>=0.12.0->fastapi<1.0.0,>=0.111.0->prefect) (0.19.0)\n",
      "Requirement already satisfied: watchfiles>=0.13 in /usr/local/lib/python3.11/site-packages (from uvicorn[standard]>=0.12.0->fastapi<1.0.0,>=0.111.0->prefect) (0.22.0)\n",
      "Requirement already satisfied: oauthlib>=3.0.0 in /usr/local/lib/python3.11/site-packages (from requests-oauthlib->apprise<2.0.0,>=1.1.0->prefect) (3.2.2)\n",
      "Downloading prefect-3.4.1-py3-none-any.whl (6.0 MB)\n",
      "\u001b[2K   \u001b[90m━━━━━━━━━━━━━━━━━━━━━━━━━━━━━━━━━━━━━━━━\u001b[0m \u001b[32m6.0/6.0 MB\u001b[0m \u001b[31m9.5 MB/s\u001b[0m eta \u001b[36m0:00:00\u001b[0m:00:01\u001b[0m00:01\u001b[0m\n",
      "\u001b[?25hDownloading griffe-1.7.3-py3-none-any.whl (129 kB)\n",
      "\u001b[2K   \u001b[90m━━━━━━━━━━━━━━━━━━━━━━━━━━━━━━━━━━━━━━━━\u001b[0m \u001b[32m129.3/129.3 kB\u001b[0m \u001b[31m6.3 MB/s\u001b[0m eta \u001b[36m0:00:00\u001b[0m\n",
      "\u001b[?25hDownloading jinja2-3.1.6-py3-none-any.whl (134 kB)\n",
      "\u001b[2K   \u001b[90m━━━━━━━━━━━━━━━━━━━━━━━━━━━━━━━━━━━━━━━━\u001b[0m \u001b[32m134.9/134.9 kB\u001b[0m \u001b[31m6.0 MB/s\u001b[0m eta \u001b[36m0:00:00\u001b[0m\n",
      "\u001b[?25hDownloading opentelemetry_api-1.32.1-py3-none-any.whl (65 kB)\n",
      "\u001b[2K   \u001b[90m━━━━━━━━━━━━━━━━━━━━━━━━━━━━━━━━━━━━━━━━\u001b[0m \u001b[32m65.3/65.3 kB\u001b[0m \u001b[31m6.9 MB/s\u001b[0m eta \u001b[36m0:00:00\u001b[0m\n",
      "\u001b[?25hDownloading pydantic-2.11.4-py3-none-any.whl (443 kB)\n",
      "\u001b[2K   \u001b[90m━━━━━━━━━━━━━━━━━━━━━━━━━━━━━━━━━━━━━━━━\u001b[0m \u001b[32m443.9/443.9 kB\u001b[0m \u001b[31m7.9 MB/s\u001b[0m eta \u001b[36m0:00:00\u001b[0mta \u001b[36m0:00:01\u001b[0m\n",
      "\u001b[?25hDownloading pydantic_core-2.33.2-cp311-cp311-manylinux_2_17_x86_64.manylinux2014_x86_64.whl (2.0 MB)\n",
      "\u001b[2K   \u001b[90m━━━━━━━━━━━━━━━━━━━━━━━━━━━━━━━━━━━━━━━━\u001b[0m \u001b[32m2.0/2.0 MB\u001b[0m \u001b[31m8.8 MB/s\u001b[0m eta \u001b[36m0:00:00\u001b[0m:00:01\u001b[0m00:01\u001b[0m\n",
      "\u001b[?25hDownloading python_socks-2.7.1-py3-none-any.whl (54 kB)\n",
      "\u001b[2K   \u001b[90m━━━━━━━━━━━━━━━━━━━━━━━━━━━━━━━━━━━━━━━━\u001b[0m \u001b[32m55.0/55.0 kB\u001b[0m \u001b[31m3.5 MB/s\u001b[0m eta \u001b[36m0:00:00\u001b[0m\n",
      "\u001b[?25hDownloading uuid7-0.1.0-py2.py3-none-any.whl (7.5 kB)\n",
      "Downloading uv-0.7.3-py3-none-manylinux_2_17_x86_64.manylinux2014_x86_64.whl (17.4 MB)\n",
      "\u001b[2K   \u001b[90m━━━━━━━━━━━━━━━━━━━━━━━━━━━━━━━━━━━━━━━━\u001b[0m \u001b[32m17.4/17.4 MB\u001b[0m \u001b[31m7.2 MB/s\u001b[0m eta \u001b[36m0:00:00\u001b[0m:00:01\u001b[0m00:01\u001b[0m\n",
      "\u001b[?25hDownloading websockets-15.0.1-cp311-cp311-manylinux_2_5_x86_64.manylinux1_x86_64.manylinux_2_17_x86_64.manylinux2014_x86_64.whl (182 kB)\n",
      "\u001b[2K   \u001b[90m━━━━━━━━━━━━━━━━━━━━━━━━━━━━━━━━━━━━━━━━\u001b[0m \u001b[32m182.3/182.3 kB\u001b[0m \u001b[31m6.1 MB/s\u001b[0m eta \u001b[36m0:00:00\u001b[0m\n",
      "\u001b[?25hDownloading Deprecated-1.2.18-py2.py3-none-any.whl (10.0 kB)\n",
      "Downloading importlib_metadata-8.6.1-py3-none-any.whl (26 kB)\n",
      "Downloading typing_inspection-0.4.0-py3-none-any.whl (14 kB)\n",
      "Installing collected packages: websockets, uv, uuid7, typing-inspection, python-socks, pydantic-core, jinja2, importlib-metadata, griffe, deprecated, pydantic, opentelemetry-api, prefect\n",
      "  Attempting uninstall: websockets\n",
      "    Found existing installation: websockets 12.0\n",
      "    Uninstalling websockets-12.0:\n",
      "      Successfully uninstalled websockets-12.0\n",
      "  Attempting uninstall: pydantic-core\n",
      "    Found existing installation: pydantic_core 2.20.1\n",
      "    Uninstalling pydantic_core-2.20.1:\n",
      "      Successfully uninstalled pydantic_core-2.20.1\n",
      "  Attempting uninstall: jinja2\n",
      "    Found existing installation: Jinja2 3.1.4\n",
      "    Uninstalling Jinja2-3.1.4:\n",
      "      Successfully uninstalled Jinja2-3.1.4\n",
      "  Attempting uninstall: importlib-metadata\n",
      "    Found existing installation: importlib_metadata 8.7.0\n",
      "    Uninstalling importlib_metadata-8.7.0:\n",
      "      Successfully uninstalled importlib_metadata-8.7.0\n",
      "  Attempting uninstall: griffe\n",
      "    Found existing installation: griffe 0.47.0\n",
      "    Uninstalling griffe-0.47.0:\n",
      "      Successfully uninstalled griffe-0.47.0\n",
      "  Attempting uninstall: pydantic\n",
      "    Found existing installation: pydantic 2.8.2\n",
      "    Uninstalling pydantic-2.8.2:\n",
      "      Successfully uninstalled pydantic-2.8.2\n",
      "  Attempting uninstall: prefect\n",
      "    Found existing installation: prefect 3.0.0rc14\n",
      "    Uninstalling prefect-3.0.0rc14:\n",
      "      Successfully uninstalled prefect-3.0.0rc14\n",
      "Successfully installed deprecated-1.2.18 griffe-1.7.3 importlib-metadata-8.6.1 jinja2-3.1.6 opentelemetry-api-1.32.1 prefect-3.4.1 pydantic-2.11.4 pydantic-core-2.33.2 python-socks-2.7.1 typing-inspection-0.4.0 uuid7-0.1.0 uv-0.7.3 websockets-15.0.1\n",
      "\u001b[33mWARNING: Running pip as the 'root' user can result in broken permissions and conflicting behaviour with the system package manager. It is recommended to use a virtual environment instead: https://pip.pypa.io/warnings/venv\u001b[0m\u001b[33m\n",
      "\u001b[0m\n",
      "\u001b[1m[\u001b[0m\u001b[34;49mnotice\u001b[0m\u001b[1;39;49m]\u001b[0m\u001b[39;49m A new release of pip is available: \u001b[0m\u001b[31;49m23.3.1\u001b[0m\u001b[39;49m -> \u001b[0m\u001b[32;49m25.1.1\u001b[0m\n",
      "\u001b[1m[\u001b[0m\u001b[34;49mnotice\u001b[0m\u001b[1;39;49m]\u001b[0m\u001b[39;49m To update, run: \u001b[0m\u001b[32;49mpip install --upgrade pip\u001b[0m\n",
      "Note: you may need to restart the kernel to use updated packages.\n"
     ]
    }
   ],
   "source": [
    "pip install --upgrade prefect"
   ]
  },
  {
   "cell_type": "code",
   "execution_count": 4,
   "id": "bb50c888",
   "metadata": {},
   "outputs": [
    {
     "data": {
      "text/html": [
       "<pre style=\"white-space:pre;overflow-x:auto;line-height:normal;font-family:Menlo,'DejaVu Sans Mono',consolas,'Courier New',monospace\"><span style=\"color: #808000; text-decoration-color: #808000\">Looks like you're deploying to a process work pool. If you're creating a deployment for local development, calling </span>\n",
       "<span style=\"color: #808000; text-decoration-color: #808000\">`.serve` on your flow is a great way to get started. See the documentation for more information: </span>\n",
       "<span style=\"color: #0000ff; text-decoration-color: #0000ff; text-decoration: underline\">https://docs.prefect.io/latest/deploy/run-flows-in-local-processes</span><span style=\"color: #808000; text-decoration-color: #808000\">  Set `</span><span style=\"color: #808000; text-decoration-color: #808000\">ignore_warnings</span><span style=\"color: #808000; text-decoration-color: #808000\">=</span><span style=\"color: #00ff00; text-decoration-color: #00ff00; font-style: italic\">True</span><span style=\"color: #808000; text-decoration-color: #808000\">` to suppress this </span>\n",
       "<span style=\"color: #808000; text-decoration-color: #808000\">message.</span>\n",
       "</pre>\n"
      ],
      "text/plain": [
       "\u001b[33mLooks like you're deploying to a process work pool. If you're creating a deployment for local development, calling \u001b[0m\n",
       "\u001b[33m`.serve` on your flow is a great way to get started. See the documentation for more information: \u001b[0m\n",
       "\u001b[4;94mhttps://docs.prefect.io/latest/deploy/run-flows-in-local-processes\u001b[0m\u001b[33m  Set `\u001b[0m\u001b[33mignore_warnings\u001b[0m\u001b[33m=\u001b[0m\u001b[3;92mTrue\u001b[0m\u001b[33m` to suppress this \u001b[0m\n",
       "\u001b[33mmessage.\u001b[0m\n"
      ]
     },
     "metadata": {},
     "output_type": "display_data"
    },
    {
     "data": {
      "text/html": [
       "<pre style=\"white-space:pre;overflow-x:auto;line-height:normal;font-family:Menlo,'DejaVu Sans Mono',consolas,'Courier New',monospace\">/usr/local/lib/python3.11/site-packages/rich/live.py:231: UserWarning: install \"ipywidgets\" for Jupyter support\n",
       "  warnings.warn('install \"ipywidgets\" for Jupyter support')\n",
       "</pre>\n"
      ],
      "text/plain": [
       "/usr/local/lib/python3.11/site-packages/rich/live.py:231: UserWarning: install \"ipywidgets\" for Jupyter support\n",
       "  warnings.warn('install \"ipywidgets\" for Jupyter support')\n"
      ]
     },
     "metadata": {},
     "output_type": "display_data"
    },
    {
     "data": {
      "text/html": [
       "<pre style=\"white-space:pre;overflow-x:auto;line-height:normal;font-family:Menlo,'DejaVu Sans Mono',consolas,'Courier New',monospace\">/usr/local/lib/python3.11/site-packages/rich/live.py:231: UserWarning: install \"ipywidgets\" for Jupyter support\n",
       "  warnings.warn('install \"ipywidgets\" for Jupyter support')\n",
       "</pre>\n"
      ],
      "text/plain": [
       "/usr/local/lib/python3.11/site-packages/rich/live.py:231: UserWarning: install \"ipywidgets\" for Jupyter support\n",
       "  warnings.warn('install \"ipywidgets\" for Jupyter support')\n"
      ]
     },
     "metadata": {},
     "output_type": "display_data"
    },
    {
     "data": {
      "text/html": [
       "<pre style=\"white-space:pre;overflow-x:auto;line-height:normal;font-family:Menlo,'DejaVu Sans Mono',consolas,'Courier New',monospace\"></pre>\n"
      ],
      "text/plain": []
     },
     "metadata": {},
     "output_type": "display_data"
    },
    {
     "data": {
      "text/html": [
       "<pre style=\"white-space:pre;overflow-x:auto;line-height:normal;font-family:Menlo,'DejaVu Sans Mono',consolas,'Courier New',monospace\">\n",
       "</pre>\n"
      ],
      "text/plain": [
       "\n"
      ]
     },
     "metadata": {},
     "output_type": "display_data"
    },
    {
     "ename": "PrefectHTTPStatusError",
     "evalue": "Client error '422 Unprocessable Entity' for url 'http://prefect-server:4200/api/flows/'\nResponse: {'exception_message': 'Invalid request received.', 'exception_detail': [{'type': 'extra_forbidden', 'loc': ['body', 'labels'], 'msg': 'Extra inputs are not permitted', 'input': {}}], 'request_body': {'name': 'show-stars', 'tags': [], 'labels': {}}}\nFor more information check: https://developer.mozilla.org/en-US/docs/Web/HTTP/Status/422",
     "output_type": "error",
     "traceback": [
      "\u001b[31m---------------------------------------------------------------------------\u001b[39m",
      "\u001b[31mPrefectHTTPStatusError\u001b[39m                    Traceback (most recent call last)",
      "\u001b[36mCell\u001b[39m\u001b[36m \u001b[39m\u001b[32mIn[4]\u001b[39m\u001b[32m, line 34\u001b[39m\n\u001b[32m     31\u001b[39m     \u001b[38;5;28;01mreturn\u001b[39;00m deployment\n\u001b[32m     33\u001b[39m \u001b[38;5;66;03m# Run the async function in Jupyter using await at top-level\u001b[39;00m\n\u001b[32m---> \u001b[39m\u001b[32m34\u001b[39m deployment_result = \u001b[38;5;28;01mawait\u001b[39;00m register_deployment()\n\u001b[32m     35\u001b[39m \u001b[38;5;28mprint\u001b[39m(\u001b[33m\"\u001b[39m\u001b[33mDeployment registered:\u001b[39m\u001b[33m\"\u001b[39m, deployment_result)\n",
      "\u001b[36mCell\u001b[39m\u001b[36m \u001b[39m\u001b[32mIn[4]\u001b[39m\u001b[32m, line 18\u001b[39m, in \u001b[36mregister_deployment\u001b[39m\u001b[34m()\u001b[39m\n\u001b[32m     13\u001b[39m loaded_flow = \u001b[38;5;28;01mawait\u001b[39;00m flow.from_source(\n\u001b[32m     14\u001b[39m     source=SOURCE_REPO,\n\u001b[32m     15\u001b[39m     entrypoint=\u001b[33m\"\u001b[39m\u001b[33mmy_workflow.py:show_stars\u001b[39m\u001b[33m\"\u001b[39m,  \u001b[38;5;66;03m# Adjust to your repo's structure\u001b[39;00m\n\u001b[32m     16\u001b[39m )\n\u001b[32m     17\u001b[39m \u001b[38;5;66;03m# Now deploy the loaded flow (awaiting the deploy call)\u001b[39;00m\n\u001b[32m---> \u001b[39m\u001b[32m18\u001b[39m deployment = \u001b[38;5;28;01mawait\u001b[39;00m loaded_flow.deploy(\n\u001b[32m     19\u001b[39m     name=\u001b[33m\"\u001b[39m\u001b[33mmy_deployment\u001b[39m\u001b[33m\"\u001b[39m,\n\u001b[32m     20\u001b[39m     parameters={\n\u001b[32m     21\u001b[39m         \u001b[33m\"\u001b[39m\u001b[33mgithub_repos\u001b[39m\u001b[33m\"\u001b[39m: [\n\u001b[32m     22\u001b[39m             \u001b[33m\"\u001b[39m\u001b[33mwasit7/papapipeline\u001b[39m\u001b[33m\"\u001b[39m,\n\u001b[32m     23\u001b[39m             \u001b[33m\"\u001b[39m\u001b[33mwasit7/DjangoCrafter\u001b[39m\u001b[33m\"\u001b[39m,\n\u001b[32m     24\u001b[39m             \u001b[33m\"\u001b[39m\u001b[33mPrefectHQ/prefect\u001b[39m\u001b[33m\"\u001b[39m,\n\u001b[32m     25\u001b[39m             \u001b[33m\"\u001b[39m\u001b[33mhuggingface/transformers\u001b[39m\u001b[33m\"\u001b[39m\n\u001b[32m     26\u001b[39m         ]\n\u001b[32m     27\u001b[39m     },\n\u001b[32m     28\u001b[39m     work_pool_name=\u001b[33m\"\u001b[39m\u001b[33mdefault-agent-pool\u001b[39m\u001b[33m\"\u001b[39m,\n\u001b[32m     29\u001b[39m     cron=\u001b[33m\"\u001b[39m\u001b[33m*/5 * * * *\u001b[39m\u001b[33m\"\u001b[39m  \u001b[38;5;66;03m# Run every 5 minutes (adjust as needed)\u001b[39;00m\n\u001b[32m     30\u001b[39m )\n\u001b[32m     31\u001b[39m \u001b[38;5;28;01mreturn\u001b[39;00m deployment\n",
      "\u001b[36mFile \u001b[39m\u001b[32m/usr/local/lib/python3.11/site-packages/prefect/utilities/asyncutils.py:341\u001b[39m, in \u001b[36msync_compatible.<locals>.coroutine_wrapper.<locals>.ctx_call\u001b[39m\u001b[34m()\u001b[39m\n\u001b[32m    339\u001b[39m token = RUNNING_ASYNC_FLAG.set(\u001b[38;5;28;01mTrue\u001b[39;00m)\n\u001b[32m    340\u001b[39m \u001b[38;5;28;01mtry\u001b[39;00m:\n\u001b[32m--> \u001b[39m\u001b[32m341\u001b[39m     result = \u001b[38;5;28;01mawait\u001b[39;00m async_fn(*args, **kwargs)\n\u001b[32m    342\u001b[39m \u001b[38;5;28;01mfinally\u001b[39;00m:\n\u001b[32m    343\u001b[39m     RUNNING_ASYNC_FLAG.reset(token)\n",
      "\u001b[36mFile \u001b[39m\u001b[32m/usr/local/lib/python3.11/site-packages/prefect/flows.py:1555\u001b[39m, in \u001b[36mFlow.deploy\u001b[39m\u001b[34m(self, name, work_pool_name, image, build, push, work_queue_name, job_variables, interval, cron, rrule, paused, schedule, schedules, concurrency_limit, triggers, parameters, description, tags, version, version_type, enforce_parameter_schema, entrypoint_type, print_next_steps, ignore_warnings, _sla)\u001b[39m\n\u001b[32m   1552\u001b[39m \u001b[38;5;28;01mif\u001b[39;00m TYPE_CHECKING:\n\u001b[32m   1553\u001b[39m     \u001b[38;5;28;01massert\u001b[39;00m inspect.isawaitable(deploy_coro)\n\u001b[32m-> \u001b[39m\u001b[32m1555\u001b[39m deployment_ids = \u001b[38;5;28;01mawait\u001b[39;00m deploy_coro\n\u001b[32m   1557\u001b[39m \u001b[38;5;28;01mif\u001b[39;00m print_next_steps:\n\u001b[32m   1558\u001b[39m     console = Console()\n",
      "\u001b[36mFile \u001b[39m\u001b[32m/usr/local/lib/python3.11/site-packages/prefect/utilities/asyncutils.py:341\u001b[39m, in \u001b[36msync_compatible.<locals>.coroutine_wrapper.<locals>.ctx_call\u001b[39m\u001b[34m()\u001b[39m\n\u001b[32m    339\u001b[39m token = RUNNING_ASYNC_FLAG.set(\u001b[38;5;28;01mTrue\u001b[39;00m)\n\u001b[32m    340\u001b[39m \u001b[38;5;28;01mtry\u001b[39;00m:\n\u001b[32m--> \u001b[39m\u001b[32m341\u001b[39m     result = \u001b[38;5;28;01mawait\u001b[39;00m async_fn(*args, **kwargs)\n\u001b[32m    342\u001b[39m \u001b[38;5;28;01mfinally\u001b[39;00m:\n\u001b[32m    343\u001b[39m     RUNNING_ASYNC_FLAG.reset(token)\n",
      "\u001b[36mFile \u001b[39m\u001b[32m/usr/local/lib/python3.11/site-packages/prefect/deployments/runner.py:1281\u001b[39m, in \u001b[36mdeploy\u001b[39m\u001b[34m(work_pool_name, image, build, push, print_next_steps_message, ignore_warnings, *deployments)\u001b[39m\n\u001b[32m   1273\u001b[39m \u001b[38;5;28;01mfor\u001b[39;00m deployment \u001b[38;5;129;01min\u001b[39;00m track(\n\u001b[32m   1274\u001b[39m     deployments,\n\u001b[32m   1275\u001b[39m     description=\u001b[33m\"\u001b[39m\u001b[33mCreating/updating deployments...\u001b[39m\u001b[33m\"\u001b[39m,\n\u001b[32m   1276\u001b[39m     console=console,\n\u001b[32m   1277\u001b[39m     transient=\u001b[38;5;28;01mTrue\u001b[39;00m,\n\u001b[32m   1278\u001b[39m ):\n\u001b[32m   1279\u001b[39m     \u001b[38;5;28;01mtry\u001b[39;00m:\n\u001b[32m   1280\u001b[39m         deployment_ids.append(\n\u001b[32m-> \u001b[39m\u001b[32m1281\u001b[39m             \u001b[38;5;28;01mawait\u001b[39;00m deployment.apply(image=image_ref, work_pool_name=work_pool_name)\n\u001b[32m   1282\u001b[39m         )\n\u001b[32m   1283\u001b[39m     \u001b[38;5;28;01mexcept\u001b[39;00m \u001b[38;5;167;01mException\u001b[39;00m \u001b[38;5;28;01mas\u001b[39;00m exc:\n\u001b[32m   1284\u001b[39m         \u001b[38;5;28;01mif\u001b[39;00m \u001b[38;5;28mlen\u001b[39m(deployments) == \u001b[32m1\u001b[39m:\n",
      "\u001b[36mFile \u001b[39m\u001b[32m/usr/local/lib/python3.11/site-packages/prefect/utilities/asyncutils.py:341\u001b[39m, in \u001b[36msync_compatible.<locals>.coroutine_wrapper.<locals>.ctx_call\u001b[39m\u001b[34m()\u001b[39m\n\u001b[32m    339\u001b[39m token = RUNNING_ASYNC_FLAG.set(\u001b[38;5;28;01mTrue\u001b[39;00m)\n\u001b[32m    340\u001b[39m \u001b[38;5;28;01mtry\u001b[39;00m:\n\u001b[32m--> \u001b[39m\u001b[32m341\u001b[39m     result = \u001b[38;5;28;01mawait\u001b[39;00m async_fn(*args, **kwargs)\n\u001b[32m    342\u001b[39m \u001b[38;5;28;01mfinally\u001b[39;00m:\n\u001b[32m    343\u001b[39m     RUNNING_ASYNC_FLAG.reset(token)\n",
      "\u001b[36mFile \u001b[39m\u001b[32m/usr/local/lib/python3.11/site-packages/prefect/deployments/runner.py:505\u001b[39m, in \u001b[36mRunnerDeployment.apply\u001b[39m\u001b[34m(self, work_pool_name, image, version_info)\u001b[39m\n\u001b[32m    503\u001b[39m     deployment = \u001b[38;5;28;01mawait\u001b[39;00m client.read_deployment_by_name(\u001b[38;5;28mself\u001b[39m.full_name)\n\u001b[32m    504\u001b[39m \u001b[38;5;28;01mexcept\u001b[39;00m ObjectNotFound:\n\u001b[32m--> \u001b[39m\u001b[32m505\u001b[39m     \u001b[38;5;28;01mreturn\u001b[39;00m \u001b[38;5;28;01mawait\u001b[39;00m \u001b[38;5;28mself\u001b[39m._create(work_pool_name, image, version_info)\n\u001b[32m    506\u001b[39m \u001b[38;5;28;01melse\u001b[39;00m:\n\u001b[32m    507\u001b[39m     \u001b[38;5;28;01mif\u001b[39;00m image:\n",
      "\u001b[36mFile \u001b[39m\u001b[32m/usr/local/lib/python3.11/site-packages/prefect/deployments/runner.py:347\u001b[39m, in \u001b[36mRunnerDeployment._create\u001b[39m\u001b[34m(self, work_pool_name, image, version_info)\u001b[39m\n\u001b[32m    341\u001b[39m     \u001b[38;5;28;01mraise\u001b[39;00m \u001b[38;5;167;01mValueError\u001b[39;00m(\n\u001b[32m    342\u001b[39m         \u001b[33m\"\u001b[39m\u001b[33mJob variables can only be provided when registering a deployment\u001b[39m\u001b[33m\"\u001b[39m\n\u001b[32m    343\u001b[39m         \u001b[33m\"\u001b[39m\u001b[33m with a work pool.\u001b[39m\u001b[33m\"\u001b[39m\n\u001b[32m    344\u001b[39m     )\n\u001b[32m    346\u001b[39m \u001b[38;5;28;01masync\u001b[39;00m \u001b[38;5;28;01mwith\u001b[39;00m get_client() \u001b[38;5;28;01mas\u001b[39;00m client:\n\u001b[32m--> \u001b[39m\u001b[32m347\u001b[39m     flow_id = \u001b[38;5;28;01mawait\u001b[39;00m client.create_flow_from_name(\u001b[38;5;28mself\u001b[39m.flow_name)\n\u001b[32m    349\u001b[39m     create_payload: \u001b[38;5;28mdict\u001b[39m[\u001b[38;5;28mstr\u001b[39m, Any] = \u001b[38;5;28mdict\u001b[39m(\n\u001b[32m    350\u001b[39m         flow_id=flow_id,\n\u001b[32m    351\u001b[39m         name=\u001b[38;5;28mself\u001b[39m.name,\n\u001b[32m   (...)\u001b[39m\u001b[32m    370\u001b[39m         enforce_parameter_schema=\u001b[38;5;28mself\u001b[39m.enforce_parameter_schema,\n\u001b[32m    371\u001b[39m     )\n\u001b[32m    373\u001b[39m     \u001b[38;5;28;01mif\u001b[39;00m work_pool_name:\n",
      "\u001b[36mFile \u001b[39m\u001b[32m/usr/local/lib/python3.11/site-packages/prefect/client/orchestration/_flows/client.py:219\u001b[39m, in \u001b[36mFlowAsyncClient.create_flow_from_name\u001b[39m\u001b[34m(self, flow_name)\u001b[39m\n\u001b[32m    216\u001b[39m \u001b[38;5;28;01mfrom\u001b[39;00m \u001b[34;01mprefect\u001b[39;00m\u001b[34;01m.\u001b[39;00m\u001b[34;01mclient\u001b[39;00m\u001b[34;01m.\u001b[39;00m\u001b[34;01mschemas\u001b[39;00m\u001b[34;01m.\u001b[39;00m\u001b[34;01mactions\u001b[39;00m \u001b[38;5;28;01mimport\u001b[39;00m FlowCreate\n\u001b[32m    218\u001b[39m flow_data = FlowCreate(name=flow_name)\n\u001b[32m--> \u001b[39m\u001b[32m219\u001b[39m response = \u001b[38;5;28;01mawait\u001b[39;00m \u001b[38;5;28mself\u001b[39m.request(\n\u001b[32m    220\u001b[39m     \u001b[33m\"\u001b[39m\u001b[33mPOST\u001b[39m\u001b[33m\"\u001b[39m, \u001b[33m\"\u001b[39m\u001b[33m/flows/\u001b[39m\u001b[33m\"\u001b[39m, json=flow_data.model_dump(mode=\u001b[33m\"\u001b[39m\u001b[33mjson\u001b[39m\u001b[33m\"\u001b[39m)\n\u001b[32m    221\u001b[39m )\n\u001b[32m    223\u001b[39m flow_id = response.json().get(\u001b[33m\"\u001b[39m\u001b[33mid\u001b[39m\u001b[33m\"\u001b[39m)\n\u001b[32m    224\u001b[39m \u001b[38;5;28;01mif\u001b[39;00m \u001b[38;5;129;01mnot\u001b[39;00m flow_id:\n",
      "\u001b[36mFile \u001b[39m\u001b[32m/usr/local/lib/python3.11/site-packages/prefect/client/orchestration/base.py:53\u001b[39m, in \u001b[36mBaseAsyncClient.request\u001b[39m\u001b[34m(self, method, path, params, path_params, **kwargs)\u001b[39m\n\u001b[32m     51\u001b[39m     path = path.format(**path_params)  \u001b[38;5;66;03m# type: ignore\u001b[39;00m\n\u001b[32m     52\u001b[39m request = \u001b[38;5;28mself\u001b[39m._client.build_request(method, path, params=params, **kwargs)\n\u001b[32m---> \u001b[39m\u001b[32m53\u001b[39m \u001b[38;5;28;01mreturn\u001b[39;00m \u001b[38;5;28;01mawait\u001b[39;00m \u001b[38;5;28mself\u001b[39m._client.send(request)\n",
      "\u001b[36mFile \u001b[39m\u001b[32m/usr/local/lib/python3.11/site-packages/prefect/client/base.py:361\u001b[39m, in \u001b[36mPrefectHttpxAsyncClient.send\u001b[39m\u001b[34m(self, request, *args, **kwargs)\u001b[39m\n\u001b[32m    358\u001b[39m response = PrefectResponse.from_httpx_response(response)\n\u001b[32m    360\u001b[39m \u001b[38;5;28;01mif\u001b[39;00m \u001b[38;5;28mself\u001b[39m.raise_on_all_errors:\n\u001b[32m--> \u001b[39m\u001b[32m361\u001b[39m     \u001b[43mresponse\u001b[49m\u001b[43m.\u001b[49m\u001b[43mraise_for_status\u001b[49m\u001b[43m(\u001b[49m\u001b[43m)\u001b[49m\n\u001b[32m    363\u001b[39m \u001b[38;5;28;01mreturn\u001b[39;00m response\n",
      "\u001b[36mFile \u001b[39m\u001b[32m/usr/local/lib/python3.11/site-packages/prefect/client/base.py:162\u001b[39m, in \u001b[36mPrefectResponse.raise_for_status\u001b[39m\u001b[34m(self)\u001b[39m\n\u001b[32m    160\u001b[39m     \u001b[38;5;28;01mreturn\u001b[39;00m \u001b[38;5;28msuper\u001b[39m().raise_for_status()\n\u001b[32m    161\u001b[39m \u001b[38;5;28;01mexcept\u001b[39;00m HTTPStatusError \u001b[38;5;28;01mas\u001b[39;00m exc:\n\u001b[32m--> \u001b[39m\u001b[32m162\u001b[39m     \u001b[38;5;28;01mraise\u001b[39;00m PrefectHTTPStatusError.from_httpx_error(exc) \u001b[38;5;28;01mfrom\u001b[39;00m \u001b[34;01mexc\u001b[39;00m\u001b[34;01m.\u001b[39;00m\u001b[34;01m__cause__\u001b[39;00m\n",
      "\u001b[31mPrefectHTTPStatusError\u001b[39m: Client error '422 Unprocessable Entity' for url 'http://prefect-server:4200/api/flows/'\nResponse: {'exception_message': 'Invalid request received.', 'exception_detail': [{'type': 'extra_forbidden', 'loc': ['body', 'labels'], 'msg': 'Extra inputs are not permitted', 'input': {}}], 'request_body': {'name': 'show-stars', 'tags': [], 'labels': {}}}\nFor more information check: https://developer.mozilla.org/en-US/docs/Web/HTTP/Status/422"
     ]
    }
   ],
   "source": [
    "import nest_asyncio\n",
    "nest_asyncio.apply()\n",
    "\n",
    "import asyncio\n",
    "from prefect import flow\n",
    "# Use the proper import for deployments if needed (depending on your version)\n",
    "# For example, in Prefect 3, the flow.from_source method is asynchronous.\n",
    "\n",
    "SOURCE_REPO = \"https://github.com/prefecthq/demos.git\"\n",
    "\n",
    "async def register_deployment():\n",
    "    # Await the from_source call to load the flow\n",
    "    loaded_flow = await flow.from_source(\n",
    "        source=SOURCE_REPO,\n",
    "        entrypoint=\"my_workflow.py:show_stars\",  # Adjust to your repo's structure\n",
    "    )\n",
    "    # Now deploy the loaded flow (awaiting the deploy call)\n",
    "    deployment = await loaded_flow.deploy(\n",
    "        name=\"my_deployment\",\n",
    "        parameters={\n",
    "            \"github_repos\": [\n",
    "                \"wasit7/papapipeline\",\n",
    "                \"wasit7/DjangoCrafter\",\n",
    "                \"PrefectHQ/prefect\",\n",
    "                \"huggingface/transformers\"\n",
    "            ]\n",
    "        },\n",
    "        work_pool_name=\"default-agent-pool\",\n",
    "        cron=\"*/5 * * * *\"  # Run every 5 minutes (adjust as needed)\n",
    "    )\n",
    "    return deployment\n",
    "\n",
    "# Run the async function in Jupyter using await at top-level\n",
    "deployment_result = await register_deployment()\n",
    "print(\"Deployment registered:\", deployment_result)"
   ]
  },
  {
   "cell_type": "code",
   "execution_count": null,
   "id": "348f3e95-b511-4fb1-8fa3-b77d88eebe6e",
   "metadata": {},
   "outputs": [],
   "source": []
  }
 ],
 "metadata": {
  "kernelspec": {
   "display_name": "Python 3 (ipykernel)",
   "language": "python",
   "name": "python3"
  },
  "language_info": {
   "codemirror_mode": {
    "name": "ipython",
    "version": 3
   },
   "file_extension": ".py",
   "mimetype": "text/x-python",
   "name": "python",
   "nbconvert_exporter": "python",
   "pygments_lexer": "ipython3",
   "version": "3.11.9"
  }
 },
 "nbformat": 4,
 "nbformat_minor": 5
}
