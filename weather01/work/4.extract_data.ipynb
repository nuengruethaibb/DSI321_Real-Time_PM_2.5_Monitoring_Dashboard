{
 "cells": [
  {
   "cell_type": "code",
   "execution_count": 1,
   "id": "2b5d83eb",
   "metadata": {},
   "outputs": [
    {
     "name": "stdout",
     "output_type": "stream",
     "text": [
      "Requirement already satisfied: httpx in /usr/local/lib/python3.11/site-packages (0.27.0)\n",
      "Collecting httpx\n",
      "  Downloading httpx-0.28.1-py3-none-any.whl.metadata (7.1 kB)\n",
      "Requirement already satisfied: anyio in /usr/local/lib/python3.11/site-packages (from httpx) (4.4.0)\n",
      "Requirement already satisfied: certifi in /usr/local/lib/python3.11/site-packages (from httpx) (2024.7.4)\n",
      "Requirement already satisfied: httpcore==1.* in /usr/local/lib/python3.11/site-packages (from httpx) (1.0.5)\n",
      "Requirement already satisfied: idna in /usr/local/lib/python3.11/site-packages (from httpx) (3.7)\n",
      "Requirement already satisfied: h11<0.15,>=0.13 in /usr/local/lib/python3.11/site-packages (from httpcore==1.*->httpx) (0.14.0)\n",
      "Requirement already satisfied: sniffio>=1.1 in /usr/local/lib/python3.11/site-packages (from anyio->httpx) (1.3.1)\n",
      "Downloading httpx-0.28.1-py3-none-any.whl (73 kB)\n",
      "\u001b[2K   \u001b[90m━━━━━━━━━━━━━━━━━━━━━━━━━━━━━━━━━━━━━━━━\u001b[0m \u001b[32m73.5/73.5 kB\u001b[0m \u001b[31m3.1 MB/s\u001b[0m eta \u001b[36m0:00:00\u001b[0m\n",
      "\u001b[?25hInstalling collected packages: httpx\n",
      "  Attempting uninstall: httpx\n",
      "    Found existing installation: httpx 0.27.0\n",
      "    Uninstalling httpx-0.27.0:\n",
      "      Successfully uninstalled httpx-0.27.0\n",
      "Successfully installed httpx-0.28.1\n",
      "\u001b[33mWARNING: Running pip as the 'root' user can result in broken permissions and conflicting behaviour with the system package manager. It is recommended to use a virtual environment instead: https://pip.pypa.io/warnings/venv\u001b[0m\u001b[33m\n",
      "\u001b[0m\n",
      "\u001b[1m[\u001b[0m\u001b[34;49mnotice\u001b[0m\u001b[1;39;49m]\u001b[0m\u001b[39;49m A new release of pip is available: \u001b[0m\u001b[31;49m23.3.1\u001b[0m\u001b[39;49m -> \u001b[0m\u001b[32;49m25.1.1\u001b[0m\n",
      "\u001b[1m[\u001b[0m\u001b[34;49mnotice\u001b[0m\u001b[1;39;49m]\u001b[0m\u001b[39;49m To update, run: \u001b[0m\u001b[32;49mpip install --upgrade pip\u001b[0m\n",
      "Note: you may need to restart the kernel to use updated packages.\n"
     ]
    }
   ],
   "source": [
    "pip install -U httpx"
   ]
  },
  {
   "cell_type": "code",
   "execution_count": 2,
   "id": "cd1bdca0",
   "metadata": {},
   "outputs": [
    {
     "name": "stdout",
     "output_type": "stream",
     "text": [
      "Requirement already satisfied: numpy in /usr/local/lib/python3.11/site-packages (2.2.5)\n",
      "\u001b[33mWARNING: Running pip as the 'root' user can result in broken permissions and conflicting behaviour with the system package manager. It is recommended to use a virtual environment instead: https://pip.pypa.io/warnings/venv\u001b[0m\u001b[33m\n",
      "\u001b[0m\n",
      "\u001b[1m[\u001b[0m\u001b[34;49mnotice\u001b[0m\u001b[1;39;49m]\u001b[0m\u001b[39;49m A new release of pip is available: \u001b[0m\u001b[31;49m23.3.1\u001b[0m\u001b[39;49m -> \u001b[0m\u001b[32;49m25.1.1\u001b[0m\n",
      "\u001b[1m[\u001b[0m\u001b[34;49mnotice\u001b[0m\u001b[1;39;49m]\u001b[0m\u001b[39;49m To update, run: \u001b[0m\u001b[32;49mpip install --upgrade pip\u001b[0m\n",
      "Note: you may need to restart the kernel to use updated packages.\n"
     ]
    }
   ],
   "source": [
    "pip install -U numpy"
   ]
  },
  {
   "cell_type": "code",
   "execution_count": 3,
   "id": "dc5130d0",
   "metadata": {},
   "outputs": [
    {
     "data": {
      "text/html": [
       "<pre style=\"white-space:pre;overflow-x:auto;line-height:normal;font-family:Menlo,'DejaVu Sans Mono',consolas,'Courier New',monospace\">10:09:22.416 | <span style=\"color: #008080; text-decoration-color: #008080\">INFO</span>    | prefect.engine - Created flow run<span style=\"color: #800080; text-decoration-color: #800080\"> 'invaluable-donkey'</span> for flow<span style=\"color: #800080; text-decoration-color: #800080; font-weight: bold\"> 'show_stars: 4.extract_data'</span>\n",
       "</pre>\n"
      ],
      "text/plain": [
       "10:09:22.416 | \u001b[36mINFO\u001b[0m    | prefect.engine - Created flow run\u001b[35m 'invaluable-donkey'\u001b[0m for flow\u001b[1;35m 'show_stars: 4.extract_data'\u001b[0m\n"
      ]
     },
     "metadata": {},
     "output_type": "display_data"
    },
    {
     "data": {
      "text/html": [
       "<pre style=\"white-space:pre;overflow-x:auto;line-height:normal;font-family:Menlo,'DejaVu Sans Mono',consolas,'Courier New',monospace\">10:09:22.422 | <span style=\"color: #008080; text-decoration-color: #008080\">INFO</span>    | prefect.engine - View at <span style=\"color: #0000ff; text-decoration-color: #0000ff\">http://prefect-server:4200/runs/flow-run/12d1e3f0-a229-4bdc-a4f7-5b2bbc5bf2d2</span>\n",
       "</pre>\n"
      ],
      "text/plain": [
       "10:09:22.422 | \u001b[36mINFO\u001b[0m    | prefect.engine - View at \u001b[94mhttp://prefect-server:4200/runs/flow-run/12d1e3f0-a229-4bdc-a4f7-5b2bbc5bf2d2\u001b[0m\n"
      ]
     },
     "metadata": {},
     "output_type": "display_data"
    },
    {
     "data": {
      "text/html": [
       "<pre style=\"white-space:pre;overflow-x:auto;line-height:normal;font-family:Menlo,'DejaVu Sans Mono',consolas,'Courier New',monospace\">10:09:22.760 | <span style=\"color: #008080; text-decoration-color: #008080\">INFO</span>    | Task run 'fetch_stats-0' - Created task run 'fetch_stats-0' for task 'fetch_stats'\n",
       "</pre>\n"
      ],
      "text/plain": [
       "10:09:22.760 | \u001b[36mINFO\u001b[0m    | Task run 'fetch_stats-0' - Created task run 'fetch_stats-0' for task 'fetch_stats'\n"
      ]
     },
     "metadata": {},
     "output_type": "display_data"
    },
    {
     "data": {
      "text/html": [
       "<pre style=\"white-space:pre;overflow-x:auto;line-height:normal;font-family:Menlo,'DejaVu Sans Mono',consolas,'Courier New',monospace\">10:09:23.513 | <span style=\"color: #008080; text-decoration-color: #008080\">INFO</span>    | Task run 'fetch_stats-0' - Finished in state <span style=\"color: #008000; text-decoration-color: #008000\">Completed</span>()\n",
       "</pre>\n"
      ],
      "text/plain": [
       "10:09:23.513 | \u001b[36mINFO\u001b[0m    | Task run 'fetch_stats-0' - Finished in state \u001b[32mCompleted\u001b[0m()\n"
      ]
     },
     "metadata": {},
     "output_type": "display_data"
    },
    {
     "data": {
      "text/html": [
       "<pre style=\"white-space:pre;overflow-x:auto;line-height:normal;font-family:Menlo,'DejaVu Sans Mono',consolas,'Courier New',monospace\">10:09:23.892 | <span style=\"color: #008080; text-decoration-color: #008080\">INFO</span>    | Task run 'get_stars-0' - Created task run 'get_stars-0' for task 'get_stars'\n",
       "</pre>\n"
      ],
      "text/plain": [
       "10:09:23.892 | \u001b[36mINFO\u001b[0m    | Task run 'get_stars-0' - Created task run 'get_stars-0' for task 'get_stars'\n"
      ]
     },
     "metadata": {},
     "output_type": "display_data"
    },
    {
     "data": {
      "text/html": [
       "<pre style=\"white-space:pre;overflow-x:auto;line-height:normal;font-family:Menlo,'DejaVu Sans Mono',consolas,'Courier New',monospace\">10:09:24.148 | <span style=\"color: #008080; text-decoration-color: #008080\">INFO</span>    | Task run 'get_stars-0' - Finished in state <span style=\"color: #008000; text-decoration-color: #008000\">Completed</span>()\n",
       "</pre>\n"
      ],
      "text/plain": [
       "10:09:24.148 | \u001b[36mINFO\u001b[0m    | Task run 'get_stars-0' - Finished in state \u001b[32mCompleted\u001b[0m()\n"
      ]
     },
     "metadata": {},
     "output_type": "display_data"
    },
    {
     "data": {
      "text/html": [
       "<pre style=\"white-space:pre;overflow-x:auto;line-height:normal;font-family:Menlo,'DejaVu Sans Mono',consolas,'Courier New',monospace\">10:09:24.152 | <span style=\"color: #008080; text-decoration-color: #008080\">INFO</span>    | Flow run<span style=\"color: #800080; text-decoration-color: #800080\"> 'invaluable-donkey'</span> - wasit7/papapipeline: 2 stars\n",
       "</pre>\n"
      ],
      "text/plain": [
       "10:09:24.152 | \u001b[36mINFO\u001b[0m    | Flow run\u001b[35m 'invaluable-donkey'\u001b[0m - wasit7/papapipeline: 2 stars\n"
      ]
     },
     "metadata": {},
     "output_type": "display_data"
    },
    {
     "data": {
      "text/html": [
       "<pre style=\"white-space:pre;overflow-x:auto;line-height:normal;font-family:Menlo,'DejaVu Sans Mono',consolas,'Courier New',monospace\">10:09:24.396 | <span style=\"color: #008080; text-decoration-color: #008080\">INFO</span>    | Task run 'fetch_stats-1' - Created task run 'fetch_stats-1' for task 'fetch_stats'\n",
       "</pre>\n"
      ],
      "text/plain": [
       "10:09:24.396 | \u001b[36mINFO\u001b[0m    | Task run 'fetch_stats-1' - Created task run 'fetch_stats-1' for task 'fetch_stats'\n"
      ]
     },
     "metadata": {},
     "output_type": "display_data"
    },
    {
     "data": {
      "text/html": [
       "<pre style=\"white-space:pre;overflow-x:auto;line-height:normal;font-family:Menlo,'DejaVu Sans Mono',consolas,'Courier New',monospace\">10:09:25.127 | <span style=\"color: #008080; text-decoration-color: #008080\">INFO</span>    | Task run 'fetch_stats-1' - Finished in state <span style=\"color: #008000; text-decoration-color: #008000\">Completed</span>()\n",
       "</pre>\n"
      ],
      "text/plain": [
       "10:09:25.127 | \u001b[36mINFO\u001b[0m    | Task run 'fetch_stats-1' - Finished in state \u001b[32mCompleted\u001b[0m()\n"
      ]
     },
     "metadata": {},
     "output_type": "display_data"
    },
    {
     "data": {
      "text/html": [
       "<pre style=\"white-space:pre;overflow-x:auto;line-height:normal;font-family:Menlo,'DejaVu Sans Mono',consolas,'Courier New',monospace\">10:09:25.319 | <span style=\"color: #008080; text-decoration-color: #008080\">INFO</span>    | Task run 'get_stars-1' - Created task run 'get_stars-1' for task 'get_stars'\n",
       "</pre>\n"
      ],
      "text/plain": [
       "10:09:25.319 | \u001b[36mINFO\u001b[0m    | Task run 'get_stars-1' - Created task run 'get_stars-1' for task 'get_stars'\n"
      ]
     },
     "metadata": {},
     "output_type": "display_data"
    },
    {
     "data": {
      "text/html": [
       "<pre style=\"white-space:pre;overflow-x:auto;line-height:normal;font-family:Menlo,'DejaVu Sans Mono',consolas,'Courier New',monospace\">10:09:25.536 | <span style=\"color: #008080; text-decoration-color: #008080\">INFO</span>    | Task run 'get_stars-1' - Finished in state <span style=\"color: #008000; text-decoration-color: #008000\">Completed</span>()\n",
       "</pre>\n"
      ],
      "text/plain": [
       "10:09:25.536 | \u001b[36mINFO\u001b[0m    | Task run 'get_stars-1' - Finished in state \u001b[32mCompleted\u001b[0m()\n"
      ]
     },
     "metadata": {},
     "output_type": "display_data"
    },
    {
     "data": {
      "text/html": [
       "<pre style=\"white-space:pre;overflow-x:auto;line-height:normal;font-family:Menlo,'DejaVu Sans Mono',consolas,'Courier New',monospace\">10:09:25.539 | <span style=\"color: #008080; text-decoration-color: #008080\">INFO</span>    | Flow run<span style=\"color: #800080; text-decoration-color: #800080\"> 'invaluable-donkey'</span> - wasit7/DjangoCrafter: 0 stars\n",
       "</pre>\n"
      ],
      "text/plain": [
       "10:09:25.539 | \u001b[36mINFO\u001b[0m    | Flow run\u001b[35m 'invaluable-donkey'\u001b[0m - wasit7/DjangoCrafter: 0 stars\n"
      ]
     },
     "metadata": {},
     "output_type": "display_data"
    },
    {
     "data": {
      "text/html": [
       "<pre style=\"white-space:pre;overflow-x:auto;line-height:normal;font-family:Menlo,'DejaVu Sans Mono',consolas,'Courier New',monospace\">10:09:25.708 | <span style=\"color: #008080; text-decoration-color: #008080\">INFO</span>    | Task run 'fetch_stats-2' - Created task run 'fetch_stats-2' for task 'fetch_stats'\n",
       "</pre>\n"
      ],
      "text/plain": [
       "10:09:25.708 | \u001b[36mINFO\u001b[0m    | Task run 'fetch_stats-2' - Created task run 'fetch_stats-2' for task 'fetch_stats'\n"
      ]
     },
     "metadata": {},
     "output_type": "display_data"
    },
    {
     "data": {
      "text/html": [
       "<pre style=\"white-space:pre;overflow-x:auto;line-height:normal;font-family:Menlo,'DejaVu Sans Mono',consolas,'Courier New',monospace\">10:09:26.430 | <span style=\"color: #008080; text-decoration-color: #008080\">INFO</span>    | Task run 'fetch_stats-2' - Finished in state <span style=\"color: #008000; text-decoration-color: #008000\">Completed</span>()\n",
       "</pre>\n"
      ],
      "text/plain": [
       "10:09:26.430 | \u001b[36mINFO\u001b[0m    | Task run 'fetch_stats-2' - Finished in state \u001b[32mCompleted\u001b[0m()\n"
      ]
     },
     "metadata": {},
     "output_type": "display_data"
    },
    {
     "data": {
      "text/html": [
       "<pre style=\"white-space:pre;overflow-x:auto;line-height:normal;font-family:Menlo,'DejaVu Sans Mono',consolas,'Courier New',monospace\">10:09:26.598 | <span style=\"color: #008080; text-decoration-color: #008080\">INFO</span>    | Task run 'get_stars-2' - Created task run 'get_stars-2' for task 'get_stars'\n",
       "</pre>\n"
      ],
      "text/plain": [
       "10:09:26.598 | \u001b[36mINFO\u001b[0m    | Task run 'get_stars-2' - Created task run 'get_stars-2' for task 'get_stars'\n"
      ]
     },
     "metadata": {},
     "output_type": "display_data"
    },
    {
     "data": {
      "text/html": [
       "<pre style=\"white-space:pre;overflow-x:auto;line-height:normal;font-family:Menlo,'DejaVu Sans Mono',consolas,'Courier New',monospace\">10:09:26.794 | <span style=\"color: #008080; text-decoration-color: #008080\">INFO</span>    | Task run 'get_stars-2' - Finished in state <span style=\"color: #008000; text-decoration-color: #008000\">Completed</span>()\n",
       "</pre>\n"
      ],
      "text/plain": [
       "10:09:26.794 | \u001b[36mINFO\u001b[0m    | Task run 'get_stars-2' - Finished in state \u001b[32mCompleted\u001b[0m()\n"
      ]
     },
     "metadata": {},
     "output_type": "display_data"
    },
    {
     "data": {
      "text/html": [
       "<pre style=\"white-space:pre;overflow-x:auto;line-height:normal;font-family:Menlo,'DejaVu Sans Mono',consolas,'Courier New',monospace\">10:09:26.798 | <span style=\"color: #008080; text-decoration-color: #008080\">INFO</span>    | Flow run<span style=\"color: #800080; text-decoration-color: #800080\"> 'invaluable-donkey'</span> - PrefectHQ/prefect: 19226 stars\n",
       "</pre>\n"
      ],
      "text/plain": [
       "10:09:26.798 | \u001b[36mINFO\u001b[0m    | Flow run\u001b[35m 'invaluable-donkey'\u001b[0m - PrefectHQ/prefect: 19226 stars\n"
      ]
     },
     "metadata": {},
     "output_type": "display_data"
    },
    {
     "data": {
      "text/html": [
       "<pre style=\"white-space:pre;overflow-x:auto;line-height:normal;font-family:Menlo,'DejaVu Sans Mono',consolas,'Courier New',monospace\">10:09:26.990 | <span style=\"color: #008080; text-decoration-color: #008080\">INFO</span>    | Task run 'fetch_stats-3' - Created task run 'fetch_stats-3' for task 'fetch_stats'\n",
       "</pre>\n"
      ],
      "text/plain": [
       "10:09:26.990 | \u001b[36mINFO\u001b[0m    | Task run 'fetch_stats-3' - Created task run 'fetch_stats-3' for task 'fetch_stats'\n"
      ]
     },
     "metadata": {},
     "output_type": "display_data"
    },
    {
     "data": {
      "text/html": [
       "<pre style=\"white-space:pre;overflow-x:auto;line-height:normal;font-family:Menlo,'DejaVu Sans Mono',consolas,'Courier New',monospace\">10:09:27.782 | <span style=\"color: #008080; text-decoration-color: #008080\">INFO</span>    | Task run 'fetch_stats-3' - Finished in state <span style=\"color: #008000; text-decoration-color: #008000\">Completed</span>()\n",
       "</pre>\n"
      ],
      "text/plain": [
       "10:09:27.782 | \u001b[36mINFO\u001b[0m    | Task run 'fetch_stats-3' - Finished in state \u001b[32mCompleted\u001b[0m()\n"
      ]
     },
     "metadata": {},
     "output_type": "display_data"
    },
    {
     "data": {
      "text/html": [
       "<pre style=\"white-space:pre;overflow-x:auto;line-height:normal;font-family:Menlo,'DejaVu Sans Mono',consolas,'Courier New',monospace\">10:09:27.964 | <span style=\"color: #008080; text-decoration-color: #008080\">INFO</span>    | Task run 'get_stars-3' - Created task run 'get_stars-3' for task 'get_stars'\n",
       "</pre>\n"
      ],
      "text/plain": [
       "10:09:27.964 | \u001b[36mINFO\u001b[0m    | Task run 'get_stars-3' - Created task run 'get_stars-3' for task 'get_stars'\n"
      ]
     },
     "metadata": {},
     "output_type": "display_data"
    },
    {
     "data": {
      "text/html": [
       "<pre style=\"white-space:pre;overflow-x:auto;line-height:normal;font-family:Menlo,'DejaVu Sans Mono',consolas,'Courier New',monospace\">10:09:28.150 | <span style=\"color: #008080; text-decoration-color: #008080\">INFO</span>    | Task run 'get_stars-3' - Finished in state <span style=\"color: #008000; text-decoration-color: #008000\">Completed</span>()\n",
       "</pre>\n"
      ],
      "text/plain": [
       "10:09:28.150 | \u001b[36mINFO\u001b[0m    | Task run 'get_stars-3' - Finished in state \u001b[32mCompleted\u001b[0m()\n"
      ]
     },
     "metadata": {},
     "output_type": "display_data"
    },
    {
     "data": {
      "text/html": [
       "<pre style=\"white-space:pre;overflow-x:auto;line-height:normal;font-family:Menlo,'DejaVu Sans Mono',consolas,'Courier New',monospace\">10:09:28.154 | <span style=\"color: #008080; text-decoration-color: #008080\">INFO</span>    | Flow run<span style=\"color: #800080; text-decoration-color: #800080\"> 'invaluable-donkey'</span> - huggingface/transformers: 144055 stars\n",
       "</pre>\n"
      ],
      "text/plain": [
       "10:09:28.154 | \u001b[36mINFO\u001b[0m    | Flow run\u001b[35m 'invaluable-donkey'\u001b[0m - huggingface/transformers: 144055 stars\n"
      ]
     },
     "metadata": {},
     "output_type": "display_data"
    },
    {
     "data": {
      "text/html": [
       "<pre style=\"white-space:pre;overflow-x:auto;line-height:normal;font-family:Menlo,'DejaVu Sans Mono',consolas,'Courier New',monospace\">10:09:28.241 | <span style=\"color: #008080; text-decoration-color: #008080\">INFO</span>    | Flow run<span style=\"color: #800080; text-decoration-color: #800080\"> 'invaluable-donkey'</span> - Finished in state <span style=\"color: #008000; text-decoration-color: #008000\">Completed</span>()\n",
       "</pre>\n"
      ],
      "text/plain": [
       "10:09:28.241 | \u001b[36mINFO\u001b[0m    | Flow run\u001b[35m 'invaluable-donkey'\u001b[0m - Finished in state \u001b[32mCompleted\u001b[0m()\n"
      ]
     },
     "metadata": {},
     "output_type": "display_data"
    }
   ],
   "source": [
    "import httpx\n",
    "\n",
    "from prefect import flow, task # Prefect flow and task decorators\n",
    "\n",
    "\n",
    "@flow(name=\"show_stars: 4.extract_data\", log_prints=True)\n",
    "def show_stars(github_repos: list[str]):\n",
    "    \"\"\"Flow: Show the number of stars that GitHub repos have\"\"\"\n",
    "\n",
    "    for repo in github_repos:\n",
    "        # Call Task 1\n",
    "        repo_stats = fetch_stats(repo)\n",
    "\n",
    "        # Call Task 2\n",
    "        stars = get_stars(repo_stats)\n",
    "\n",
    "        # Print the result\n",
    "        print(f\"{repo}: {stars} stars\")\n",
    "\n",
    "\n",
    "@task\n",
    "def fetch_stats(github_repo: str):\n",
    "    \"\"\"Task 1: Fetch the statistics for a GitHub repo\"\"\"\n",
    "\n",
    "    return httpx.get(f\"https://api.github.com/repos/{github_repo}\").json()\n",
    "\n",
    "\n",
    "@task\n",
    "def get_stars(repo_stats: dict):\n",
    "    \"\"\"Task 2: Get the number of stars from GitHub repo statistics\"\"\"\n",
    "\n",
    "    return repo_stats['stargazers_count']\n",
    "\n",
    "\n",
    "# Run the flow\n",
    "if __name__ == \"__main__\":\n",
    "    show_stars([\n",
    "        \"wasit7/papapipeline\",\n",
    "        \"wasit7/DjangoCrafter\",\n",
    "        \"PrefectHQ/prefect\",\n",
    "        \"huggingface/transformers\"\n",
    "    ])"
   ]
  }
 ],
 "metadata": {
  "kernelspec": {
   "display_name": "Python 3 (ipykernel)",
   "language": "python",
   "name": "python3"
  },
  "language_info": {
   "codemirror_mode": {
    "name": "ipython",
    "version": 3
   },
   "file_extension": ".py",
   "mimetype": "text/x-python",
   "name": "python",
   "nbconvert_exporter": "python",
   "pygments_lexer": "ipython3",
   "version": "3.11.9"
  }
 },
 "nbformat": 4,
 "nbformat_minor": 5
}
